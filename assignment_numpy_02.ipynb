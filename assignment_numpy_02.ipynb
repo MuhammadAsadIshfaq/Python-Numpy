{
 "cells": [
  {
   "cell_type": "markdown",
   "id": "61b5ad98",
   "metadata": {},
   "source": [
    "# Task1:"
   ]
  },
  {
   "cell_type": "code",
   "execution_count": 2,
   "id": "88cea5ac",
   "metadata": {},
   "outputs": [
    {
     "name": "stdout",
     "output_type": "stream",
     "text": [
      "Slice: [30 40 50]\n"
     ]
    }
   ],
   "source": [
    "import numpy as np\n",
    "\n",
    "a = np.array([10, 20, 30, 40, 50])\n",
    "b = a[2:5]\n",
    "print(\"Slice:\", b)"
   ]
  },
  {
   "cell_type": "code",
   "execution_count": 3,
   "id": "0b1258b7",
   "metadata": {},
   "outputs": [
    {
     "name": "stdout",
     "output_type": "stream",
     "text": [
      "Second Column: [2 5 8]\n"
     ]
    }
   ],
   "source": [
    "matrix = np.array([[1, 2, 3], [4, 5, 6], [7, 8, 9]])\n",
    "scnd = matrix[:, 1]\n",
    "print(\"Second Column:\", scnd)"
   ]
  },
  {
   "cell_type": "code",
   "execution_count": 4,
   "id": "3a8af097",
   "metadata": {},
   "outputs": [
    {
     "name": "stdout",
     "output_type": "stream",
     "text": [
      "Sub:\n",
      "[[21 23]\n",
      " [31 33]]\n"
     ]
    }
   ],
   "source": [
    "matrix = np.array([[11, 12, 13, 14], [21, 22, 23, 24], [31, 32, 33, 34]])\n",
    "sub = matrix[1:3, [0, 2]]\n",
    "print(\"Sub:\")\n",
    "print(sub)"
   ]
  },
  {
   "cell_type": "code",
   "execution_count": 5,
   "id": "26dc79e2",
   "metadata": {},
   "outputs": [
    {
     "name": "stdout",
     "output_type": "stream",
     "text": [
      "Sliced:\n",
      "[[21 22 23 24 25]\n",
      " [26 27 28 29 30]\n",
      " [31 32 33 34 35]\n",
      " [36 37 38 39 40]]\n"
     ]
    }
   ],
   "source": [
    "tensor = np.array([[[1, 2, 3, 4, 5], [6, 7, 8, 9, 10], [11, 12, 13, 14, 15], [16, 17, 18, 19, 20]],\n",
    "                   [[21, 22, 23, 24, 25], [26, 27, 28, 29, 30], [31, 32, 33, 34, 35], [36, 37, 38, 39, 40]],\n",
    "                   [[41, 42, 43, 44, 45], [46, 47, 48, 49, 50], [51, 52, 53, 54, 55], [56, 57, 58, 59, 60]]])\n",
    "slicing = tensor[1]\n",
    "print(\"Sliced:\")\n",
    "print(slicing)"
   ]
  },
  {
   "cell_type": "code",
   "execution_count": 6,
   "id": "4a623b7a",
   "metadata": {},
   "outputs": [
    {
     "name": "stdout",
     "output_type": "stream",
     "text": [
      "Even Numbers : [2 4 6 8]\n"
     ]
    }
   ],
   "source": [
    "data = np.array([1, 2, 3, 4, 5, 6, 7, 8, 9])\n",
    "even = data[data % 2 == 0]\n",
    "print(\"Even Numbers :\", even)"
   ]
  },
  {
   "cell_type": "markdown",
   "id": "4e864075",
   "metadata": {},
   "source": [
    "# Task2:"
   ]
  },
  {
   "cell_type": "code",
   "execution_count": 7,
   "id": "91e8edd4",
   "metadata": {},
   "outputs": [
    {
     "name": "stdout",
     "output_type": "stream",
     "text": [
      "[[ 70  80  90]\n",
      " [120 130 140]\n",
      " [170 180 190]]\n"
     ]
    }
   ],
   "source": [
    "import numpy as np\n",
    "\n",
    "image = np.array([[10, 20, 30, 40, 50],\n",
    "                  [60, 70, 80, 90, 100],\n",
    "                  [110, 120, 130, 140, 150],\n",
    "                  [160, 170, 180, 190, 200],\n",
    "                  [210, 220, 230, 240, 250]])\n",
    "\n",
    "R = image[1:4, 1:4]\n",
    "print(R)\n"
   ]
  },
  {
   "cell_type": "code",
   "execution_count": 8,
   "id": "889ee57d",
   "metadata": {},
   "outputs": [
    {
     "name": "stdout",
     "output_type": "stream",
     "text": [
      "[70.7 73.2 71.1]\n"
     ]
    }
   ],
   "source": [
    "temperature= np.array([[75.2, 78.3, 81.5, 79.0, 82.1],\n",
    "                            [71.6, 73.8, 76.2, 72.4, 77.5],\n",
    "                            [69.3, 70.7, 73.2, 71.1, 74.8],\n",
    "                            [74.8, 76.2, 78.4, 76.0, 80.5]])\n",
    "\n",
    "temp = temperature[2, 1:4]\n",
    "print(temp)\n"
   ]
  },
  {
   "cell_type": "code",
   "execution_count": 9,
   "id": "f3e8b7b7",
   "metadata": {},
   "outputs": [
    {
     "name": "stdout",
     "output_type": "stream",
     "text": [
      "[62.1 60.5 63.2]\n"
     ]
    }
   ],
   "source": [
    "stock = np.array([[50.0, 51.2, 49.5, 48.9, 50.3],\n",
    "                      [62.1, 60.5, 63.2, 59.7, 61.0],\n",
    "                      [90.5, 88.7, 91.2, 92.0, 89.5]])\n",
    "\n",
    "stock2 = stock[1, 0:3]\n",
    "print(stock2)"
   ]
  },
  {
   "cell_type": "code",
   "execution_count": 10,
   "id": "86c0de0f",
   "metadata": {},
   "outputs": [
    {
     "name": "stdout",
     "output_type": "stream",
     "text": [
      "[78 85 92]\n",
      "85.0\n"
     ]
    }
   ],
   "source": [
    "scores = np.array([[85, 92, 78],\n",
    "                          [90, 88, 76],\n",
    "                          [78, 85, 92],\n",
    "                          [95, 91, 89]])\n",
    "\n",
    "student3 = scores[2, :]\n",
    "\n",
    "performance = np.mean(student3)\n",
    "print(student3)\n",
    "print(performance)\n"
   ]
  },
  {
   "cell_type": "markdown",
   "id": "03643a14",
   "metadata": {},
   "source": [
    "# Task3:"
   ]
  },
  {
   "cell_type": "code",
   "execution_count": 12,
   "id": "a7512327",
   "metadata": {},
   "outputs": [
    {
     "name": "stdout",
     "output_type": "stream",
     "text": [
      "60\n",
      "[[21 22 23 24 25]\n",
      " [26 27 28 29 30]\n",
      " [31 32 33 34 35]\n",
      " [36 37 38 39 40]]\n",
      "[21 22 23 24 25]\n",
      "[[47 48 49]\n",
      " [52 53 54]]\n"
     ]
    }
   ],
   "source": [
    "import numpy as np\n",
    "\n",
    "cube = np.array([[[1, 2, 3, 4, 5],\n",
    "                  [6, 7, 8, 9, 10],\n",
    "                  [11, 12, 13, 14, 15],\n",
    "                  [16, 17, 18, 19, 20]],\n",
    "                 [[21, 22, 23, 24, 25],\n",
    "                  [26, 27, 28, 29, 30],\n",
    "                  [31, 32, 33, 34, 35],\n",
    "                  [36, 37, 38, 39, 40]],\n",
    "                 [[41, 42, 43, 44, 45],\n",
    "                  [46, 47, 48, 49, 50],\n",
    "                  [51, 52, 53, 54, 55],\n",
    "                  [56, 57, 58, 59, 60]]])\n",
    "\n",
    "element_1 = cube[2, 3, 4]\n",
    "print(element_1)\n",
    "\n",
    "array = cube[1]\n",
    "print(array)\n",
    "row = cube[1, 0]\n",
    "print(row)\n",
    "sub_matrix = cube[2, 1:3, 1:4]\n",
    "print(sub_matrix)\n"
   ]
  },
  {
   "cell_type": "code",
   "execution_count": 13,
   "id": "6abe61a5",
   "metadata": {},
   "outputs": [
    {
     "name": "stdout",
     "output_type": "stream",
     "text": [
      "250\n",
      "[[310 320 330]\n",
      " [340 350 360]\n",
      " [370 380 390]]\n",
      "[30 60 90]\n",
      "[[220 230]\n",
      " [250 260]]\n"
     ]
    }
   ],
   "source": [
    "data_cube = np.array([[[10, 20, 30],\n",
    "                       [40, 50, 60],\n",
    "                       [70, 80, 90]],\n",
    "                      [[110, 120, 130],\n",
    "                       [140, 150, 160],\n",
    "                       [170, 180, 190]],\n",
    "                      [[210, 220, 230],\n",
    "                       [240, 250, 260],\n",
    "                       [270, 280, 290]],\n",
    "                      [[310, 320, 330],\n",
    "                       [340, 350, 360],\n",
    "                       [370, 380, 390]]])\n",
    "\n",
    "element_2 = data_cube[2, 1, 1]\n",
    "print(element_2)\n",
    "\n",
    "array = data_cube[3]\n",
    "print(array)\n",
    "\n",
    "column = data_cube[0, :, 2]\n",
    "print(column)\n",
    "\n",
    "sub = data_cube[2, 0:2, 1:3]\n",
    "print(sub)\n"
   ]
  },
  {
   "cell_type": "code",
   "execution_count": 14,
   "id": "4e6004ef",
   "metadata": {},
   "outputs": [
    {
     "name": "stdout",
     "output_type": "stream",
     "text": [
      "128\n",
      "[[255   0   0]\n",
      " [  0 255   0]\n",
      " [  0   0 255]]\n",
      "[  0 255   0]\n",
      "[[  0   0]\n",
      " [255   0]]\n"
     ]
    }
   ],
   "source": [
    "color_cube = np.array([[[255, 0, 0],\n",
    "                        [0, 255, 0],\n",
    "                        [0, 0, 255]],\n",
    "                       [[128, 128, 0],\n",
    "                        [0, 128, 128],\n",
    "                        [128, 0, 128]]])\n",
    "\n",
    "rgb_value = color_cube[1, 1, 2]\n",
    "print(rgb_value)\n",
    "\n",
    "array = color_cube[0]\n",
    "print(array)\n",
    "\n",
    "green = color_cube[0, :, 1]\n",
    "print(green)\n",
    "\n",
    "sub = color_cube[0, 0:2, 1:3]\n",
    "print(sub)\n"
   ]
  },
  {
   "cell_type": "markdown",
   "id": "e10cd174",
   "metadata": {},
   "source": [
    "# Task4:"
   ]
  },
  {
   "cell_type": "code",
   "execution_count": 15,
   "id": "54f6583e",
   "metadata": {},
   "outputs": [
    {
     "name": "stdout",
     "output_type": "stream",
     "text": [
      "[ 9 10 11 12 13 14 15 16]\n",
      "[ 3  6  9 12 15]\n"
     ]
    }
   ],
   "source": [
    "import numpy as np\n",
    "\n",
    "matrix = np.array([[1, 2, 3, 4],\n",
    "                   [5, 6, 7, 8],\n",
    "                   [9, 10, 11, 12],\n",
    "                   [13, 14, 15, 16]])\n",
    "\n",
    "elements_greater = matrix[matrix > 8]\n",
    "print(elements_greater)\n",
    "\n",
    "divisible = matrix[matrix % 3 == 0]\n",
    "print(divisible)\n"
   ]
  },
  {
   "cell_type": "code",
   "execution_count": 16,
   "id": "d1ac3095",
   "metadata": {},
   "outputs": [
    {
     "name": "stdout",
     "output_type": "stream",
     "text": [
      "[110 120 130 140 150 160 170 180 190 210 220 230 240 250 260 270 280 290\n",
      " 310 320 330 340 350 360 370 380 390]\n",
      "[ 20  40  60  80 120 140 160 180 220 240 260 280 320 340 360 380]\n",
      "[260 270 280 290 310 320 330 340]\n"
     ]
    }
   ],
   "source": [
    "data_cube = np.array([[[10, 20, 30],\n",
    "                       [40, 50, 60],\n",
    "                       [70, 80, 90]],\n",
    "                      [[110, 120, 130],\n",
    "                       [140, 150, 160],\n",
    "                       [170, 180, 190]],\n",
    "                      [[210, 220, 230],\n",
    "                       [240, 250, 260],\n",
    "                       [270, 280, 290]],\n",
    "                      [[310, 320, 330],\n",
    "                       [340, 350, 360],\n",
    "                       [370, 380, 390]]])\n",
    "\n",
    "elements_greater = data_cube[data_cube > 100]\n",
    "print(elements_greater)\n",
    "\n",
    "divisible = data_cube[data_cube % 20 == 0]\n",
    "print(divisible)\n",
    "\n",
    "mask = (data_cube > 250) & (data_cube < 350)\n",
    "\n",
    "masked_elements = data_cube[mask]\n",
    "print(masked_elements)\n"
   ]
  },
  {
   "cell_type": "code",
   "execution_count": null,
   "id": "01aca5b3",
   "metadata": {},
   "outputs": [],
   "source": []
  }
 ],
 "metadata": {
  "kernelspec": {
   "display_name": "Python 3 (ipykernel)",
   "language": "python",
   "name": "python3"
  },
  "language_info": {
   "codemirror_mode": {
    "name": "ipython",
    "version": 3
   },
   "file_extension": ".py",
   "mimetype": "text/x-python",
   "name": "python",
   "nbconvert_exporter": "python",
   "pygments_lexer": "ipython3",
   "version": "3.9.7"
  }
 },
 "nbformat": 4,
 "nbformat_minor": 5
}
