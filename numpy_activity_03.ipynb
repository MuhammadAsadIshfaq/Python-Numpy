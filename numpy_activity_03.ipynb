{
 "cells": [
  {
   "cell_type": "markdown",
   "id": "313e450a",
   "metadata": {},
   "source": [
    "# Task: 1"
   ]
  },
  {
   "cell_type": "code",
   "execution_count": 1,
   "id": "85fefd50",
   "metadata": {},
   "outputs": [
    {
     "name": "stdout",
     "output_type": "stream",
     "text": [
      "17.0\n"
     ]
    }
   ],
   "source": [
    "import numpy as np\n",
    "\n",
    "t1 = 3 * np.sqrt(16) + np.abs(-5)\n",
    "print(t1)"
   ]
  },
  {
   "cell_type": "code",
   "execution_count": 2,
   "id": "4ec06648",
   "metadata": {},
   "outputs": [
    {
     "name": "stdout",
     "output_type": "stream",
     "text": [
      "23.0\n"
     ]
    }
   ],
   "source": [
    "t2 = 23 - np.log10(100) + np.abs(-2)\n",
    "print(t2)"
   ]
  },
  {
   "cell_type": "code",
   "execution_count": 3,
   "id": "9052e46c",
   "metadata": {},
   "outputs": [
    {
     "name": "stdout",
     "output_type": "stream",
     "text": [
      "5.125\n"
     ]
    }
   ],
   "source": [
    "t3 = np.sqrt(25) + 1 / (2 * 4)\n",
    "print(t3)"
   ]
  },
  {
   "cell_type": "code",
   "execution_count": 4,
   "id": "a4b2b35a",
   "metadata": {},
   "outputs": [
    {
     "name": "stdout",
     "output_type": "stream",
     "text": [
      "21.0\n"
     ]
    }
   ],
   "source": [
    "t4 = np.abs(-3 * np.log2(8)) + np.sqrt(144)\n",
    "print(t4)"
   ]
  },
  {
   "cell_type": "code",
   "execution_count": 5,
   "id": "065d39a6",
   "metadata": {},
   "outputs": [
    {
     "name": "stdout",
     "output_type": "stream",
     "text": [
      "16.389056098930652\n"
     ]
    }
   ],
   "source": [
    "t5 = np.exp(2) + np.log(np.e**10) - 1\n",
    "print(t5)"
   ]
  },
  {
   "cell_type": "code",
   "execution_count": 6,
   "id": "61ff7c1d",
   "metadata": {},
   "outputs": [
    {
     "name": "stdout",
     "output_type": "stream",
     "text": [
      "-18.0\n"
     ]
    }
   ],
   "source": [
    "t6 = np.sqrt(81) + np.log2(32) - 32\n",
    "print(t6)"
   ]
  },
  {
   "cell_type": "code",
   "execution_count": 7,
   "id": "6365b16c",
   "metadata": {},
   "outputs": [
    {
     "name": "stdout",
     "output_type": "stream",
     "text": [
      "1.3333333333333333\n"
     ]
    }
   ],
   "source": [
    "t7 = np.abs(np.log(1)) + 1 / np.sqrt(9) + np.exp(0)\n",
    "print(t7)"
   ]
  },
  {
   "cell_type": "code",
   "execution_count": 8,
   "id": "a56f758f",
   "metadata": {},
   "outputs": [
    {
     "name": "stdout",
     "output_type": "stream",
     "text": [
      "28.0\n"
     ]
    }
   ],
   "source": [
    "t8 = 4 * np.sqrt(36) - np.log(1) + np.abs(-4)\n",
    "print(t8)"
   ]
  },
  {
   "cell_type": "code",
   "execution_count": 9,
   "id": "4cad4c68",
   "metadata": {},
   "outputs": [
    {
     "name": "stdout",
     "output_type": "stream",
     "text": [
      "5.067667641618306\n"
     ]
    }
   ],
   "source": [
    "t9 = np.sqrt(49) + 1 / (2 * np.exp(2)) - np.abs(np.log10(100))\n",
    "print(t9)"
   ]
  },
  {
   "cell_type": "code",
   "execution_count": 10,
   "id": "b63d173b",
   "metadata": {},
   "outputs": [
    {
     "name": "stdout",
     "output_type": "stream",
     "text": [
      "29.0\n"
     ]
    }
   ],
   "source": [
    "t10 = 33 + np.log2(16) - np.abs(-np.sqrt(64))\n",
    "print(t10)"
   ]
  },
  {
   "cell_type": "markdown",
   "id": "2a06e8c5",
   "metadata": {},
   "source": [
    "# Task: 2"
   ]
  },
  {
   "cell_type": "code",
   "execution_count": 11,
   "id": "3d72f206",
   "metadata": {},
   "outputs": [
    {
     "name": "stdout",
     "output_type": "stream",
     "text": [
      "[ 3.41421356 14.         32.44948974]\n"
     ]
    }
   ],
   "source": [
    "A = np.array([2, 4, 6])\n",
    "\n",
    "t1 = A**2 + np.sqrt(A) - np.abs(A)\n",
    "print(t1)\n"
   ]
  },
  {
   "cell_type": "code",
   "execution_count": 12,
   "id": "639b5b1c",
   "metadata": {},
   "outputs": [
    {
     "name": "stdout",
     "output_type": "stream",
     "text": [
      "[  3.71828183  22.60841567 152.7141891 ]\n"
     ]
    }
   ],
   "source": [
    "B = np.array([1, 3, 5])\n",
    "\n",
    "t2 = np.exp(B) - np.log10(B) + np.abs(B)\n",
    "print(t2)\n"
   ]
  },
  {
   "cell_type": "code",
   "execution_count": 13,
   "id": "c78f4687",
   "metadata": {},
   "outputs": [
    {
     "name": "stdout",
     "output_type": "stream",
     "text": [
      "[102.61881286   5.40025396   2.        ]\n"
     ]
    }
   ],
   "source": [
    "C = np.array([0.1, 0.5, 1.0])\n",
    "\n",
    "t3 = np.sqrt(C) + 1 / C**2 - np.log(C)\n",
    "print(t3)"
   ]
  },
  {
   "cell_type": "code",
   "execution_count": 14,
   "id": "65e1c320",
   "metadata": {},
   "outputs": [
    {
     "name": "stdout",
     "output_type": "stream",
     "text": [
      "[       nan        inf 2.41421356]\n"
     ]
    },
    {
     "name": "stderr",
     "output_type": "stream",
     "text": [
      "C:\\Users\\HP840G~1\\AppData\\Local\\Temp/ipykernel_14440/1355664005.py:3: RuntimeWarning: invalid value encountered in sqrt\n",
      "  t4 = np.abs(D) + np.sqrt(D) - np.log2(np.abs(D))\n",
      "C:\\Users\\HP840G~1\\AppData\\Local\\Temp/ipykernel_14440/1355664005.py:3: RuntimeWarning: divide by zero encountered in log2\n",
      "  t4 = np.abs(D) + np.sqrt(D) - np.log2(np.abs(D))\n"
     ]
    }
   ],
   "source": [
    "D = np.array([-2, 0, 2])\n",
    "\n",
    "t4 = np.abs(D) + np.sqrt(D) - np.log2(np.abs(D))\n",
    "print(t4)"
   ]
  },
  {
   "cell_type": "code",
   "execution_count": 15,
   "id": "d4cb18bf",
   "metadata": {},
   "outputs": [
    {
     "name": "stdout",
     "output_type": "stream",
     "text": [
      "[ 1.71828183  7.58220328 20.85081588]\n"
     ]
    }
   ],
   "source": [
    "E = np.array([1, 2, 3])\n",
    "\n",
    "t5 = np.exp(E) + np.log(E) - 1 / np.abs(E)\n",
    "print(t5)"
   ]
  },
  {
   "cell_type": "code",
   "execution_count": 16,
   "id": "cc5ecf2a",
   "metadata": {},
   "outputs": [
    {
     "name": "stdout",
     "output_type": "stream",
     "text": [
      "[2.       3.169925 4.      ]\n"
     ]
    }
   ],
   "source": [
    "F = np.array([4, 9, 16])\n",
    "\n",
    "t6 = np.sqrt(F) + np.log2(F) - F**(1/2)\n",
    "print(t6)"
   ]
  },
  {
   "cell_type": "code",
   "execution_count": 17,
   "id": "9bf72b09",
   "metadata": {},
   "outputs": [
    {
     "name": "stdout",
     "output_type": "stream",
     "text": [
      "[2.07789015 3.54539713 5.88217222]\n"
     ]
    }
   ],
   "source": [
    "G = np.array([0.2, 0.4, 0.6])\n",
    "\n",
    "t7 = np.abs(G) + np.sqrt(G) - 1 / np.log10(G)\n",
    "print(t7)"
   ]
  },
  {
   "cell_type": "code",
   "execution_count": 18,
   "id": "edab9d6a",
   "metadata": {},
   "outputs": [
    {
     "name": "stdout",
     "output_type": "stream",
     "text": [
      "[-0.58365145 -0.5857311  -0.63212056]\n"
     ]
    }
   ],
   "source": [
    "H = np.array([-3, -2, -1])\n",
    "t8 = np.exp(H) + np.log(np.abs(H)) - np.sqrt(np.abs(H))\n",
    "print(t8)"
   ]
  },
  {
   "cell_type": "code",
   "execution_count": 19,
   "id": "dce99182",
   "metadata": {},
   "outputs": [
    {
     "name": "stdout",
     "output_type": "stream",
     "text": [
      "[3.25       2.         2.33170417]\n"
     ]
    }
   ],
   "source": [
    "I = np.array([0.5, 1.0, 1.5])\n",
    "\n",
    "t9 = I**2 + 1 / I - np.log2(I)\n",
    "print(t9)\n"
   ]
  },
  {
   "cell_type": "code",
   "execution_count": 20,
   "id": "1f6a186d",
   "metadata": {},
   "outputs": [
    {
     "name": "stdout",
     "output_type": "stream",
     "text": [
      "10\n"
     ]
    }
   ],
   "source": [
    "J = np.array([2, 4, 8])\n",
    "\n",
    "t10 = np.abs(J) + np.sqrt(J) - J**(1/3)\n",
    "print(10)"
   ]
  },
  {
   "cell_type": "markdown",
   "id": "ab45a8a9",
   "metadata": {},
   "source": [
    "# Task : 3\n"
   ]
  },
  {
   "cell_type": "code",
   "execution_count": 21,
   "id": "2138eabc",
   "metadata": {},
   "outputs": [
    {
     "name": "stdout",
     "output_type": "stream",
     "text": [
      "[0.         1.64316767 0.        ]\n"
     ]
    },
    {
     "name": "stderr",
     "output_type": "stream",
     "text": [
      "C:\\Users\\HP840G~1\\AppData\\Local\\Temp/ipykernel_14440/3699846443.py:3: RuntimeWarning: invalid value encountered in sqrt\n",
      "  t1 = np.sqrt(temperature)\n"
     ]
    }
   ],
   "source": [
    "temperature = np.array([-3.4, 2.7, -1.2])\n",
    "\n",
    "t1 = np.sqrt(temperature)\n",
    "t1[np.isnan(t1)] = 0  \n",
    "print(t1)"
   ]
  },
  {
   "cell_type": "code",
   "execution_count": 22,
   "id": "0b26233f",
   "metadata": {},
   "outputs": [
    {
     "name": "stdout",
     "output_type": "stream",
     "text": [
      "[2.19089023        nan 2.34520788]\n",
      "[ 1.11111111 -0.43478261  0.14925373]\n",
      "[       nan 1.16315081        nan]\n",
      "[ 0.41666667 -0.55555556  0.12658228]\n",
      "[0.74036269 0.63346846 0.78532984]\n"
     ]
    },
    {
     "name": "stderr",
     "output_type": "stream",
     "text": [
      "C:\\Users\\HP840G~1\\AppData\\Local\\Temp/ipykernel_14440/3536337559.py:3: RuntimeWarning: invalid value encountered in sqrt\n",
      "  t2 = np.sqrt(mm)\n",
      "C:\\Users\\HP840G~1\\AppData\\Local\\Temp/ipykernel_14440/3536337559.py:15: RuntimeWarning: invalid value encountered in log\n",
      "  t4 = np.log(km)\n"
     ]
    }
   ],
   "source": [
    "\n",
    "mm = np.array([4.8, -7.2, 5.5])\n",
    "\n",
    "t2 = np.sqrt(mm)\n",
    "t2[np.isnan(t2)] = np.nan  \n",
    "print(t2)\n",
    "\n",
    "ms = np.array([0.9, -2.3, 6.7])\n",
    "\n",
    "t3 = 1 / ms\n",
    "t3[np.isnan(t3)] = 0  \n",
    "print(t3)\n",
    "\n",
    "km = np.array([-0.6, 3.2, -4.1])\n",
    "\n",
    "t4 = np.log(km)\n",
    "t4[np.isnan(t4)] = np.nan  \n",
    "print(t4)\n",
    "\n",
    "time = np.array([2.4, -1.8, 7.9])\n",
    "\n",
    "t5 = 1 / time\n",
    "t5[np.isnan(t5)] = 0  \n",
    "print(t5)\n",
    "\n",
    "ph = np.array([-5.5, 4.3, 6.1])\n",
    "\n",
    "t6 = np.log10(np.abs(ph))\n",
    "t6[np.isnan(t6)] = 0  \n",
    "print(t6)"
   ]
  },
  {
   "cell_type": "markdown",
   "id": "1d2d3a69",
   "metadata": {},
   "source": [
    "# Task:4"
   ]
  },
  {
   "cell_type": "code",
   "execution_count": 23,
   "id": "77cdd17b",
   "metadata": {},
   "outputs": [
    {
     "name": "stdout",
     "output_type": "stream",
     "text": [
      "2.449489742783177\n"
     ]
    }
   ],
   "source": [
    "t1 = np.tan(np.pi/3) * 1/np.sin(np.pi/4)\n",
    "print(t1)"
   ]
  },
  {
   "cell_type": "code",
   "execution_count": 24,
   "id": "40dbf20a",
   "metadata": {},
   "outputs": [
    {
     "name": "stdout",
     "output_type": "stream",
     "text": [
      "1.0471975511965979\n"
     ]
    }
   ],
   "source": [
    "t2 = np.arcsin(1/2) + np.arccos(np.sqrt(3)/2)\n",
    "print(t2)"
   ]
  },
  {
   "cell_type": "code",
   "execution_count": 25,
   "id": "43fcfcbe",
   "metadata": {},
   "outputs": [
    {
     "name": "stdout",
     "output_type": "stream",
     "text": [
      "1.23370055013617\n"
     ]
    }
   ],
   "source": [
    "t3 = np.arccos(1/np.sqrt(2)) * np.arcsin(1)\n",
    "print(t3)\n"
   ]
  },
  {
   "cell_type": "code",
   "execution_count": 26,
   "id": "e07f85c8",
   "metadata": {},
   "outputs": [
    {
     "name": "stdout",
     "output_type": "stream",
     "text": [
      "0.36803398874989524\n"
     ]
    }
   ],
   "source": [
    "t4 = np.tan(np.arccos(2/3)) - 1/np.tan(np.arcsin(4/5))\n",
    "print(t4)"
   ]
  },
  {
   "cell_type": "code",
   "execution_count": 27,
   "id": "c3850d5d",
   "metadata": {},
   "outputs": [
    {
     "name": "stdout",
     "output_type": "stream",
     "text": [
      "6.324555320336758\n"
     ]
    }
   ],
   "source": [
    "t5 = 1/np.cos(np.arctan(3)) * 1/np.sin(np.arcsin(1/2))\n",
    "print(t5)"
   ]
  },
  {
   "cell_type": "markdown",
   "id": "aac53668",
   "metadata": {},
   "source": [
    "# Task:5"
   ]
  },
  {
   "cell_type": "code",
   "execution_count": 28,
   "id": "bb96e64a",
   "metadata": {},
   "outputs": [
    {
     "name": "stdout",
     "output_type": "stream",
     "text": [
      "[90.66666667 90.         84.33333333]\n",
      "[4.18993503 0.81649658 4.49691252]\n"
     ]
    }
   ],
   "source": [
    "test_scores = np.array([\n",
    "    [85, 90, 88],\n",
    "    [92, 89, 78],\n",
    "    [95, 91, 87]\n",
    "])\n",
    "\n",
    "mean = np.mean(test_scores, axis=0)\n",
    "std = np.std(test_scores, axis=0)\n",
    "print(mean)\n",
    "print(std)\n"
   ]
  },
  {
   "cell_type": "code",
   "execution_count": 29,
   "id": "954f7df2",
   "metadata": {},
   "outputs": [
    {
     "name": "stdout",
     "output_type": "stream",
     "text": [
      "[150. 110. 220.]\n",
      "[450 330 660]\n"
     ]
    }
   ],
   "source": [
    "sales = np.array([\n",
    "    [120, 150, 180],\n",
    "    [90, 110, 130],\n",
    "    [200, 220, 240]\n",
    "])\n",
    "\n",
    "median = np.median(sales, axis=1)\n",
    "total = np.sum(sales, axis=1)\n",
    "print(median)\n",
    "print(total)"
   ]
  },
  {
   "cell_type": "code",
   "execution_count": 30,
   "id": "1aec810c",
   "metadata": {},
   "outputs": [
    {
     "name": "stdout",
     "output_type": "stream",
     "text": [
      "[[0.25 0.25 0.25]\n",
      " [6.25 4.   4.  ]\n",
      " [4.   2.25 6.25]]\n",
      "[[45 49 43]\n",
      " [45 50 48]\n",
      " [52 55 55]]\n"
     ]
    }
   ],
   "source": [
    "temperature = np.array([\n",
    "    [\n",
    "        [22, 25, 21],\n",
    "        [20, 23, 22],\n",
    "        [24, 26, 25]\n",
    "    ],\n",
    "    [\n",
    "        [23, 24, 22],\n",
    "        [25, 27, 26],\n",
    "        [28, 29, 30]\n",
    "    ]\n",
    "])\n",
    "\n",
    "variance = np.var(temperature, axis=0)\n",
    "sum1 = np.sum(temperature, axis=0)\n",
    "print(variance)\n",
    "print(sum1)\n"
   ]
  },
  {
   "cell_type": "code",
   "execution_count": 31,
   "id": "95fe4261",
   "metadata": {},
   "outputs": [
    {
     "name": "stdout",
     "output_type": "stream",
     "text": [
      "[[385. 395. 395.]\n",
      " [400. 400. 390.]]\n",
      "[[770 790 790]\n",
      " [800 800 780]]\n"
     ]
    }
   ],
   "source": [
    "times = np.array([\n",
    "    [\n",
    "        [350, 400, 380],\n",
    "        [420, 390, 410]\n",
    "    ],\n",
    "    [\n",
    "        [390, 370, 400],\n",
    "        [410, 430, 380]\n",
    "    ]\n",
    "])\n",
    "\n",
    "median = np.median(times, axis=1)\n",
    "total = np.sum(times, axis=1)\n",
    "print(median)\n",
    "print(total)"
   ]
  },
  {
   "cell_type": "code",
   "execution_count": 32,
   "id": "2d390f09",
   "metadata": {},
   "outputs": [
    {
     "name": "stdout",
     "output_type": "stream",
     "text": [
      "[[67.66666667 73.33333333]\n",
      " [69.66666667 75.66666667]]\n",
      "[[4.22222222 1.55555556]\n",
      " [1.55555556 1.55555556]]\n"
     ]
    }
   ],
   "source": [
    "weights = np.array([\n",
    "    [\n",
    "        [65, 70, 68],\n",
    "        [72, 75, 73]\n",
    "    ],\n",
    "    [\n",
    "        [68, 71, 70],\n",
    "        [74, 77, 76]\n",
    "    ]\n",
    "])\n",
    "\n",
    "mean = np.mean(weights, axis=2)\n",
    "variance = np.var(weights, axis=2)\n",
    "print(mean)\n",
    "print(variance)"
   ]
  },
  {
   "cell_type": "markdown",
   "id": "d41573ec",
   "metadata": {},
   "source": [
    "# Task:6"
   ]
  },
  {
   "cell_type": "code",
   "execution_count": 33,
   "id": "5c999551",
   "metadata": {},
   "outputs": [
    {
     "name": "stdout",
     "output_type": "stream",
     "text": [
      "Actual Data: [ 4.96714153 -1.38264301  6.47688538 15.23029856 -2.34153375 -2.34136957\n",
      " 15.79212816  7.67434729 -4.69474386  5.42560044]\n",
      "Estimated Data: [ 4.92079976 -1.42921599  6.50108161 15.03897054 -2.51402553 -2.39759832\n",
      " 15.69084504  7.70577202 -4.78554627  5.28437007]\n"
     ]
    }
   ],
   "source": [
    "np.random.seed(42)\n",
    "actual = 10 * np.random.randn(10)\n",
    "estimated = actual + 0.1 * np.random.randn(10)\n",
    "print(\"Actual Data:\", actual)\n",
    "print(\"Estimated Data:\", estimated)"
   ]
  },
  {
   "cell_type": "code",
   "execution_count": 34,
   "id": "98ab0424",
   "metadata": {},
   "outputs": [
    {
     "name": "stdout",
     "output_type": "stream",
     "text": [
      "Errors: [-0.04634177 -0.04657298  0.02419623 -0.19132802 -0.17249178 -0.05622875\n",
      " -0.10128311  0.03142473 -0.09080241 -0.14123037]\n",
      "Sum of Errors: -0.790658234582414\n",
      "Average Sum of Squares of Errors: 0.011386043722185442\n",
      "Root Mean Square Error (RMSE): 0.1067054062462884\n"
     ]
    }
   ],
   "source": [
    "errors = estimated - actual\n",
    "print(\"Errors:\", errors)\n",
    "\n",
    "sum_of_errors = np.sum(errors)\n",
    "print(\"Sum of Errors:\", sum_of_errors)\n",
    "\n",
    "avg_sum_of_squares = np.mean(errors**2)\n",
    "print(\"Average Sum of Squares of Errors:\", avg_sum_of_squares)\n",
    "\n",
    "rmse = np.sqrt(avg_sum_of_squares)\n",
    "print(\"Root Mean Square Error (RMSE):\", rmse)"
   ]
  },
  {
   "cell_type": "markdown",
   "id": "17c31956",
   "metadata": {},
   "source": [
    "# Task:7"
   ]
  },
  {
   "cell_type": "code",
   "execution_count": 37,
   "id": "9adf91ae",
   "metadata": {},
   "outputs": [
    {
     "name": "stdout",
     "output_type": "stream",
     "text": [
      "Log Loss: 1.0277373670101957\n"
     ]
    }
   ],
   "source": [
    "np.random.seed(42)\n",
    "true_labels = np.random.randint(2, size=100)\n",
    "predicted = np.random.rand(100)\n",
    "\n",
    "epsilon = 1e-15\n",
    "predicted = np.maximum(epsilon, np.minimum(1 - epsilon, predicted))\n",
    "\n",
    "log_loss = -np.mean(true_labels * np.log(predicted) + (1 - true_labels) * np.log(1 - predicted))\n",
    "print(\"Log Loss:\", log_loss)\n"
   ]
  },
  {
   "cell_type": "code",
   "execution_count": null,
   "id": "2dc4c346",
   "metadata": {},
   "outputs": [],
   "source": []
  }
 ],
 "metadata": {
  "kernelspec": {
   "display_name": "Python 3 (ipykernel)",
   "language": "python",
   "name": "python3"
  },
  "language_info": {
   "codemirror_mode": {
    "name": "ipython",
    "version": 3
   },
   "file_extension": ".py",
   "mimetype": "text/x-python",
   "name": "python",
   "nbconvert_exporter": "python",
   "pygments_lexer": "ipython3",
   "version": "3.9.7"
  }
 },
 "nbformat": 4,
 "nbformat_minor": 5
}
