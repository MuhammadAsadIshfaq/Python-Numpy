{
 "cells": [
  {
   "cell_type": "markdown",
   "id": "5f2827bc",
   "metadata": {},
   "source": [
    "# Numpy Fundamentals\n",
    "\n",
    "- **Date:** November 16, 2023\n",
    "- **Author:** Dr. Muhammad Abbas Abbasi\n",
    "- **Institute:** DeepEmbed Lab, Department of Electronic Engineering, IUB\n"
   ]
  },
  {
   "cell_type": "code",
   "execution_count": null,
   "id": "4012d77f",
   "metadata": {},
   "outputs": [],
   "source": [
    "# import numpy\n",
    "import numpy as np"
   ]
  },
  {
   "cell_type": "markdown",
   "id": "a4ac47fa",
   "metadata": {},
   "source": [
    "### Flattening Arrays"
   ]
  },
  {
   "cell_type": "code",
   "execution_count": null,
   "id": "715a1d38",
   "metadata": {},
   "outputs": [],
   "source": [
    "x = np.arange(15).reshape(5,3)\n",
    "x"
   ]
  },
  {
   "cell_type": "code",
   "execution_count": null,
   "id": "3ad74556",
   "metadata": {},
   "outputs": [],
   "source": [
    "x.shape"
   ]
  },
  {
   "cell_type": "code",
   "execution_count": null,
   "id": "b7504b14",
   "metadata": {},
   "outputs": [],
   "source": [
    "y = x.ravel()\n",
    "y"
   ]
  },
  {
   "cell_type": "code",
   "execution_count": null,
   "id": "05b6c98c",
   "metadata": {},
   "outputs": [],
   "source": [
    "y.shape"
   ]
  },
  {
   "cell_type": "code",
   "execution_count": null,
   "id": "98dc9144",
   "metadata": {},
   "outputs": [],
   "source": [
    "x"
   ]
  },
  {
   "cell_type": "code",
   "execution_count": null,
   "id": "2d74d0e3",
   "metadata": {},
   "outputs": [],
   "source": [
    "y[0]=99"
   ]
  },
  {
   "cell_type": "code",
   "execution_count": null,
   "id": "eb54d64a",
   "metadata": {},
   "outputs": [],
   "source": [
    "y"
   ]
  },
  {
   "cell_type": "code",
   "execution_count": null,
   "id": "e4d1bd8e",
   "metadata": {},
   "outputs": [],
   "source": [
    "x"
   ]
  },
  {
   "cell_type": "markdown",
   "id": "99e194a5",
   "metadata": {},
   "source": [
    "Ravel method does not produce acopy\n",
    "We use flatten method which produces copy"
   ]
  },
  {
   "cell_type": "code",
   "execution_count": null,
   "id": "0a92485b",
   "metadata": {},
   "outputs": [],
   "source": [
    "x"
   ]
  },
  {
   "cell_type": "code",
   "execution_count": null,
   "id": "97674f00",
   "metadata": {},
   "outputs": [],
   "source": [
    "z = x.flatten()\n",
    "z"
   ]
  },
  {
   "cell_type": "code",
   "execution_count": null,
   "id": "85fd8b6c",
   "metadata": {},
   "outputs": [],
   "source": [
    "z[0] = -100"
   ]
  },
  {
   "cell_type": "code",
   "execution_count": null,
   "id": "58e8d31d",
   "metadata": {},
   "outputs": [],
   "source": [
    "z"
   ]
  },
  {
   "cell_type": "code",
   "execution_count": null,
   "id": "e709568b",
   "metadata": {},
   "outputs": [],
   "source": [
    "x"
   ]
  },
  {
   "cell_type": "markdown",
   "id": "89818a0f",
   "metadata": {},
   "source": [
    "### Concatenating Arrays"
   ]
  },
  {
   "cell_type": "code",
   "execution_count": null,
   "id": "36f83d09",
   "metadata": {},
   "outputs": [],
   "source": [
    "arr1 = np.arange(1,7).reshape(2,3)\n",
    "arr1"
   ]
  },
  {
   "cell_type": "code",
   "execution_count": null,
   "id": "31c32411",
   "metadata": {},
   "outputs": [],
   "source": [
    "arr2 = np.arange(7,13).reshape(2,3)\n",
    "arr2"
   ]
  },
  {
   "cell_type": "code",
   "execution_count": null,
   "id": "f8d720ce",
   "metadata": {},
   "outputs": [],
   "source": [
    "np.concatenate([arr1,arr2], axis=0)"
   ]
  },
  {
   "cell_type": "code",
   "execution_count": null,
   "id": "1423f6ff",
   "metadata": {},
   "outputs": [],
   "source": [
    "np.concatenate([arr1,arr2], axis=1)"
   ]
  },
  {
   "cell_type": "markdown",
   "id": "5a20748e",
   "metadata": {},
   "source": [
    "### Stacking"
   ]
  },
  {
   "cell_type": "code",
   "execution_count": null,
   "id": "b4fa7433",
   "metadata": {},
   "outputs": [],
   "source": [
    "arr1"
   ]
  },
  {
   "cell_type": "code",
   "execution_count": null,
   "id": "14b1d910",
   "metadata": {},
   "outputs": [],
   "source": [
    "arr2"
   ]
  },
  {
   "cell_type": "code",
   "execution_count": null,
   "id": "39b4c172",
   "metadata": {},
   "outputs": [],
   "source": [
    "np.vstack((arr1,arr2))"
   ]
  },
  {
   "cell_type": "code",
   "execution_count": null,
   "id": "738c56e6",
   "metadata": {},
   "outputs": [],
   "source": [
    "np.row_stack((arr1,arr2))"
   ]
  },
  {
   "cell_type": "code",
   "execution_count": null,
   "id": "92afe244",
   "metadata": {},
   "outputs": [],
   "source": [
    "np.hstack((arr1,arr2))"
   ]
  },
  {
   "cell_type": "code",
   "execution_count": null,
   "id": "374e1f60",
   "metadata": {},
   "outputs": [],
   "source": [
    "np.column_stack((arr1,arr2))"
   ]
  },
  {
   "cell_type": "markdown",
   "id": "c4e3316e",
   "metadata": {},
   "source": [
    "### Stacking lower order arrays to create higher order arrays"
   ]
  },
  {
   "cell_type": "code",
   "execution_count": 1,
   "id": "79447671",
   "metadata": {},
   "outputs": [
    {
     "data": {
      "text/plain": [
       "array([ 1,  2,  3,  4,  5,  6,  7,  8,  9, 10, 11, 12])"
      ]
     },
     "execution_count": 1,
     "metadata": {},
     "output_type": "execute_result"
    }
   ],
   "source": [
    "import numpy as np\n",
    "a1 = np.arange(1,13)\n",
    "a1"
   ]
  },
  {
   "cell_type": "code",
   "execution_count": 2,
   "id": "1c2fe573",
   "metadata": {},
   "outputs": [
    {
     "data": {
      "text/plain": [
       "(12,)"
      ]
     },
     "execution_count": 2,
     "metadata": {},
     "output_type": "execute_result"
    }
   ],
   "source": [
    "a1.shape"
   ]
  },
  {
   "cell_type": "code",
   "execution_count": 3,
   "id": "6e9965d9",
   "metadata": {},
   "outputs": [
    {
     "data": {
      "text/plain": [
       "array([13, 14, 15, 16, 17, 18, 19, 20, 21, 22, 23, 24])"
      ]
     },
     "execution_count": 3,
     "metadata": {},
     "output_type": "execute_result"
    }
   ],
   "source": [
    "a2 = np.arange(13,25)\n",
    "a2"
   ]
  },
  {
   "cell_type": "code",
   "execution_count": 4,
   "id": "06636ac3",
   "metadata": {},
   "outputs": [
    {
     "data": {
      "text/plain": [
       "(12,)"
      ]
     },
     "execution_count": 4,
     "metadata": {},
     "output_type": "execute_result"
    }
   ],
   "source": [
    "a2.shape"
   ]
  },
  {
   "cell_type": "code",
   "execution_count": 5,
   "id": "a60ececc",
   "metadata": {},
   "outputs": [
    {
     "data": {
      "text/plain": [
       "array([[ 1,  2,  3,  4,  5,  6,  7,  8,  9, 10, 11, 12],\n",
       "       [13, 14, 15, 16, 17, 18, 19, 20, 21, 22, 23, 24]])"
      ]
     },
     "execution_count": 5,
     "metadata": {},
     "output_type": "execute_result"
    }
   ],
   "source": [
    "a3 = np.stack((a1,a2), axis=0)  # column-wise stacling of elements\n",
    "a3"
   ]
  },
  {
   "cell_type": "code",
   "execution_count": null,
   "id": "021812a4",
   "metadata": {},
   "outputs": [],
   "source": [
    "a3.shape"
   ]
  },
  {
   "cell_type": "code",
   "execution_count": null,
   "id": "a18d824c",
   "metadata": {},
   "outputs": [],
   "source": [
    "a4 = np.stack((a1,a2), axis=1) # row-wise stacking of elements\n",
    "a4"
   ]
  },
  {
   "cell_type": "code",
   "execution_count": null,
   "id": "4e3f415a",
   "metadata": {},
   "outputs": [],
   "source": [
    "a4.shape"
   ]
  },
  {
   "cell_type": "code",
   "execution_count": null,
   "id": "30904664",
   "metadata": {},
   "outputs": [],
   "source": [
    "x1 = np.arange(1,13).reshape(3,4)\n",
    "x1"
   ]
  },
  {
   "cell_type": "code",
   "execution_count": null,
   "id": "5abc5c6a",
   "metadata": {},
   "outputs": [],
   "source": [
    "x1.shape"
   ]
  },
  {
   "cell_type": "code",
   "execution_count": null,
   "id": "52d299e0",
   "metadata": {},
   "outputs": [],
   "source": [
    "x2 = np.arange(13,25).reshape(3,4)\n",
    "x2"
   ]
  },
  {
   "cell_type": "code",
   "execution_count": null,
   "id": "cb2f7520",
   "metadata": {},
   "outputs": [],
   "source": [
    "x2.shape"
   ]
  },
  {
   "cell_type": "code",
   "execution_count": null,
   "id": "507c3eea",
   "metadata": {},
   "outputs": [],
   "source": [
    "x3 = np.stack((x1,x2), axis=0)\n",
    "x3"
   ]
  },
  {
   "cell_type": "code",
   "execution_count": null,
   "id": "ee756ef4",
   "metadata": {},
   "outputs": [],
   "source": [
    "x3.shape"
   ]
  },
  {
   "cell_type": "code",
   "execution_count": null,
   "id": "65ac8728",
   "metadata": {},
   "outputs": [],
   "source": [
    "x4 = np.stack((x1,x2), axis=1)\n",
    "x4"
   ]
  },
  {
   "cell_type": "code",
   "execution_count": null,
   "id": "ab5c18bf",
   "metadata": {},
   "outputs": [],
   "source": [
    "x4.shape"
   ]
  },
  {
   "cell_type": "code",
   "execution_count": null,
   "id": "eb427809",
   "metadata": {},
   "outputs": [],
   "source": [
    "x5 = np.stack((x1,x2), axis=2)\n",
    "x5"
   ]
  },
  {
   "cell_type": "code",
   "execution_count": null,
   "id": "1b364027",
   "metadata": {},
   "outputs": [],
   "source": [
    "x5.shape"
   ]
  },
  {
   "cell_type": "markdown",
   "id": "dd2ace91",
   "metadata": {},
   "source": [
    "# Linear Algebra"
   ]
  },
  {
   "cell_type": "markdown",
   "id": "9794a223",
   "metadata": {},
   "source": [
    "### Dot product"
   ]
  },
  {
   "cell_type": "code",
   "execution_count": null,
   "id": "b8e17c90",
   "metadata": {},
   "outputs": [],
   "source": [
    "a = np.arange(1,5)\n",
    "a"
   ]
  },
  {
   "cell_type": "code",
   "execution_count": null,
   "id": "cf42ec00",
   "metadata": {},
   "outputs": [],
   "source": [
    "b = np.arange(5,9)\n",
    "b"
   ]
  },
  {
   "cell_type": "code",
   "execution_count": null,
   "id": "2630de17",
   "metadata": {},
   "outputs": [],
   "source": [
    "np.dot(a,b)"
   ]
  },
  {
   "cell_type": "code",
   "execution_count": null,
   "id": "7faa79ff",
   "metadata": {},
   "outputs": [],
   "source": [
    "a@b"
   ]
  },
  {
   "cell_type": "code",
   "execution_count": null,
   "id": "4e3814fa",
   "metadata": {},
   "outputs": [],
   "source": [
    "x = np.arange(1,7).reshape(2,3)\n",
    "x"
   ]
  },
  {
   "cell_type": "code",
   "execution_count": null,
   "id": "cc6e6d67",
   "metadata": {},
   "outputs": [],
   "source": [
    "y = np.ones(3)\n",
    "y"
   ]
  },
  {
   "cell_type": "code",
   "execution_count": null,
   "id": "d393d7ae",
   "metadata": {},
   "outputs": [],
   "source": [
    "x@y"
   ]
  },
  {
   "cell_type": "code",
   "execution_count": null,
   "id": "76bd8cad",
   "metadata": {},
   "outputs": [],
   "source": [
    "p = np.random.randint(0,10,(4,4))\n",
    "p"
   ]
  },
  {
   "cell_type": "code",
   "execution_count": null,
   "id": "2c1d9338",
   "metadata": {},
   "outputs": [],
   "source": [
    "q = np.random.randint(-5,5,(4,4))\n",
    "q"
   ]
  },
  {
   "cell_type": "code",
   "execution_count": null,
   "id": "8f104eef",
   "metadata": {},
   "outputs": [],
   "source": [
    "p@q   # normal matrix multiplication"
   ]
  },
  {
   "cell_type": "markdown",
   "id": "e767c111",
   "metadata": {},
   "source": [
    "### Inverse of a matrix"
   ]
  },
  {
   "cell_type": "code",
   "execution_count": null,
   "id": "7772f519",
   "metadata": {},
   "outputs": [],
   "source": [
    "np.linalg.inv(p)"
   ]
  },
  {
   "cell_type": "markdown",
   "id": "40016d44",
   "metadata": {},
   "source": [
    "### QR Decomposition of a matrix"
   ]
  },
  {
   "cell_type": "code",
   "execution_count": null,
   "id": "bb4a4a4f",
   "metadata": {},
   "outputs": [],
   "source": [
    "q,r = np.linalg.qr(p)  # used in curve fitting or regression (least squares)"
   ]
  },
  {
   "cell_type": "code",
   "execution_count": null,
   "id": "70615fed",
   "metadata": {},
   "outputs": [],
   "source": [
    "q  # orthogonal matrix i.e. its transpose is equal to its inverse"
   ]
  },
  {
   "cell_type": "code",
   "execution_count": null,
   "id": "742e383d",
   "metadata": {},
   "outputs": [],
   "source": [
    "q.T"
   ]
  },
  {
   "cell_type": "code",
   "execution_count": null,
   "id": "9b302c9b",
   "metadata": {},
   "outputs": [],
   "source": [
    "np.linalg.inv(q)"
   ]
  },
  {
   "cell_type": "code",
   "execution_count": null,
   "id": "04005b1b",
   "metadata": {},
   "outputs": [],
   "source": [
    "r"
   ]
  },
  {
   "cell_type": "code",
   "execution_count": null,
   "id": "1383c01a",
   "metadata": {},
   "outputs": [],
   "source": [
    "q@r"
   ]
  },
  {
   "cell_type": "code",
   "execution_count": null,
   "id": "4208076a",
   "metadata": {},
   "outputs": [],
   "source": [
    "p"
   ]
  },
  {
   "cell_type": "markdown",
   "id": "0fd42d58",
   "metadata": {},
   "source": [
    "### Diagonal and trace"
   ]
  },
  {
   "cell_type": "code",
   "execution_count": null,
   "id": "024024f8",
   "metadata": {},
   "outputs": [],
   "source": [
    "p"
   ]
  },
  {
   "cell_type": "code",
   "execution_count": null,
   "id": "68409890",
   "metadata": {},
   "outputs": [],
   "source": [
    "np.diag(p)"
   ]
  },
  {
   "cell_type": "code",
   "execution_count": null,
   "id": "4deb485b",
   "metadata": {},
   "outputs": [],
   "source": [
    "np.trace(p)"
   ]
  },
  {
   "cell_type": "markdown",
   "id": "cf2bc18b",
   "metadata": {},
   "source": [
    "### Eigenvalues and eigenvectors of a square matrix"
   ]
  },
  {
   "cell_type": "code",
   "execution_count": null,
   "id": "daf3d541",
   "metadata": {},
   "outputs": [],
   "source": [
    "p"
   ]
  },
  {
   "cell_type": "code",
   "execution_count": null,
   "id": "83ad6dfa",
   "metadata": {},
   "outputs": [],
   "source": [
    "w, v = np.linalg.eig(p)"
   ]
  },
  {
   "cell_type": "code",
   "execution_count": null,
   "id": "238b9e50",
   "metadata": {},
   "outputs": [],
   "source": [
    "w"
   ]
  },
  {
   "cell_type": "code",
   "execution_count": null,
   "id": "b8140289",
   "metadata": {},
   "outputs": [],
   "source": [
    "w.shape"
   ]
  },
  {
   "cell_type": "code",
   "execution_count": null,
   "id": "7bc3c3df",
   "metadata": {},
   "outputs": [],
   "source": [
    "v"
   ]
  },
  {
   "cell_type": "code",
   "execution_count": null,
   "id": "7162a93c",
   "metadata": {},
   "outputs": [],
   "source": [
    "v.shape"
   ]
  },
  {
   "cell_type": "markdown",
   "id": "5717dbfa",
   "metadata": {},
   "source": [
    "### Singular value decomposition"
   ]
  },
  {
   "cell_type": "code",
   "execution_count": null,
   "id": "36412e42",
   "metadata": {},
   "outputs": [],
   "source": [
    "p"
   ]
  },
  {
   "cell_type": "code",
   "execution_count": null,
   "id": "de033260",
   "metadata": {},
   "outputs": [],
   "source": [
    "L, S, R = np.linalg.svd(p)"
   ]
  },
  {
   "cell_type": "code",
   "execution_count": null,
   "id": "175cfaa2",
   "metadata": {},
   "outputs": [],
   "source": [
    "L"
   ]
  },
  {
   "cell_type": "code",
   "execution_count": null,
   "id": "50309856",
   "metadata": {},
   "outputs": [],
   "source": [
    "S"
   ]
  },
  {
   "cell_type": "code",
   "execution_count": null,
   "id": "90c76cb6",
   "metadata": {},
   "outputs": [],
   "source": [
    "R"
   ]
  },
  {
   "cell_type": "code",
   "execution_count": null,
   "id": "673abaa0",
   "metadata": {},
   "outputs": [],
   "source": [
    "L@(np.diag(S))@R"
   ]
  },
  {
   "cell_type": "markdown",
   "id": "b98b8bd8",
   "metadata": {},
   "source": [
    "### Solving Linear Systems of Equations\n",
    "\\begin{equation}\n",
    "3x-y-z=0\\\\\n",
    "x+y=5\\\\\n",
    "2x-3z=2\n",
    "\\end{equation}"
   ]
  },
  {
   "cell_type": "code",
   "execution_count": null,
   "id": "a8fc3b77",
   "metadata": {},
   "outputs": [],
   "source": [
    "A=np.array([[3,-1,-1],[1,1,0],[2,0,-3]])\n",
    "A"
   ]
  },
  {
   "cell_type": "code",
   "execution_count": null,
   "id": "9bd0e7ec",
   "metadata": {},
   "outputs": [],
   "source": [
    "b=np.array([[0],[5],[2]])\n",
    "b"
   ]
  },
  {
   "cell_type": "code",
   "execution_count": null,
   "id": "f57ff889",
   "metadata": {},
   "outputs": [],
   "source": [
    "np.linalg.solve(A,b)"
   ]
  },
  {
   "cell_type": "markdown",
   "id": "136a89c5",
   "metadata": {},
   "source": [
    "### Computing norms"
   ]
  },
  {
   "cell_type": "code",
   "execution_count": null,
   "id": "59818341",
   "metadata": {},
   "outputs": [],
   "source": [
    "x = np.array([[0,3,4],[2,6,4]])\n",
    "x"
   ]
  },
  {
   "cell_type": "code",
   "execution_count": null,
   "id": "805e92d5",
   "metadata": {},
   "outputs": [],
   "source": [
    "np.linalg.norm(x)  # norm of all glgmgnts"
   ]
  },
  {
   "cell_type": "code",
   "execution_count": null,
   "id": "8211e72f",
   "metadata": {},
   "outputs": [],
   "source": [
    "np.linalg.norm(x,axis=0)  # column-wis norm"
   ]
  },
  {
   "cell_type": "code",
   "execution_count": null,
   "id": "a910add8",
   "metadata": {},
   "outputs": [],
   "source": [
    "np.linalg.norm(x,axis=1)  # row-wis norm"
   ]
  }
 ],
 "metadata": {
  "kernelspec": {
   "display_name": "Python 3 (ipykernel)",
   "language": "python",
   "name": "python3"
  },
  "language_info": {
   "codemirror_mode": {
    "name": "ipython",
    "version": 3
   },
   "file_extension": ".py",
   "mimetype": "text/x-python",
   "name": "python",
   "nbconvert_exporter": "python",
   "pygments_lexer": "ipython3",
   "version": "3.9.7"
  }
 },
 "nbformat": 4,
 "nbformat_minor": 5
}
