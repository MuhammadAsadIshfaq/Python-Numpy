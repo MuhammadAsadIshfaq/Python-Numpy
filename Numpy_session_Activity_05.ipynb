{
 "cells": [
  {
   "cell_type": "markdown",
   "id": "afa3c053",
   "metadata": {},
   "source": [
    "# Task:1"
   ]
  },
  {
   "cell_type": "code",
   "execution_count": 1,
   "id": "2d8124ef",
   "metadata": {},
   "outputs": [
    {
     "data": {
      "text/plain": [
       "array([ 3,  6,  9, 12, 15, 18, 21, 24, 27])"
      ]
     },
     "execution_count": 1,
     "metadata": {},
     "output_type": "execute_result"
    }
   ],
   "source": [
    "import numpy as np\n",
    "arr_1 = np.array([[3,6,9],[12,15,18],[21,24,27]])\n",
    "arr_1.flatten()"
   ]
  },
  {
   "cell_type": "code",
   "execution_count": 2,
   "id": "2e2c3d6b",
   "metadata": {},
   "outputs": [
    {
     "data": {
      "text/plain": [
       "array([0.83545077, 0.07162596, 0.92496297, 0.48750357, 0.47786482,\n",
       "       0.06355264, 0.06638488, 0.23278922, 0.58182893, 0.26085806,\n",
       "       0.50638359, 0.91778841])"
      ]
     },
     "execution_count": 2,
     "metadata": {},
     "output_type": "execute_result"
    }
   ],
   "source": [
    "matrix = np.random.rand(3,4)\n",
    "flat = matrix.flatten()\n",
    "flat"
   ]
  },
  {
   "cell_type": "code",
   "execution_count": 3,
   "id": "b78fcd73",
   "metadata": {},
   "outputs": [
    {
     "data": {
      "text/plain": [
       "array([2, 4, 6, 8, 1, 3, 5, 7])"
      ]
     },
     "execution_count": 3,
     "metadata": {},
     "output_type": "execute_result"
    }
   ],
   "source": [
    "arr = np.array([[[2, 4], [6, 8]], [[1, 3], [5, 7]]])\n",
    "flat = arr.flatten()\n",
    "flat"
   ]
  },
  {
   "cell_type": "code",
   "execution_count": 4,
   "id": "fd645cdb",
   "metadata": {},
   "outputs": [
    {
     "data": {
      "text/plain": [
       "array([0.77276715, 0.69091814, 0.42913992, 0.91099156, 0.95837974,\n",
       "       0.23701463, 0.21735434, 0.80627475, 0.17006721, 0.30112848,\n",
       "       0.03022258, 0.60325966])"
      ]
     },
     "execution_count": 4,
     "metadata": {},
     "output_type": "execute_result"
    }
   ],
   "source": [
    "arr3 = np.random.random((2, 3, 2))\n",
    "arr = arr3.flatten()\n",
    "arr"
   ]
  },
  {
   "cell_type": "code",
   "execution_count": 5,
   "id": "a377af6a",
   "metadata": {},
   "outputs": [
    {
     "data": {
      "text/plain": [
       "array([ 5, 10, 15, 20, 25, 30, 35, 40, 45])"
      ]
     },
     "execution_count": 5,
     "metadata": {},
     "output_type": "execute_result"
    }
   ],
   "source": [
    "arr_3 = np.array([[5,10,15],[20,25,30],[35,40,45]])\n",
    "flat = arr_3.flatten()\n",
    "flat"
   ]
  },
  {
   "cell_type": "markdown",
   "id": "7b216505",
   "metadata": {},
   "source": [
    "# Task:2"
   ]
  },
  {
   "cell_type": "code",
   "execution_count": 6,
   "id": "afa8ab17",
   "metadata": {},
   "outputs": [
    {
     "data": {
      "text/plain": [
       "array([[ 2,  4,  6,  8, 10],\n",
       "       [ 1,  3,  5,  7,  9]])"
      ]
     },
     "execution_count": 6,
     "metadata": {},
     "output_type": "execute_result"
    }
   ],
   "source": [
    "arr1 = [2, 4, 6, 8, 10]\n",
    "arr2 = [1, 3, 5, 7, 9]\n",
    "\n",
    "stack = np.stack((arr1,arr2),axis=0)\n",
    "stack"
   ]
  },
  {
   "cell_type": "code",
   "execution_count": 7,
   "id": "2bf21d7e",
   "metadata": {},
   "outputs": [
    {
     "data": {
      "text/plain": [
       "array([[[0.52034054, 0.02476121, 0.40823701, 0.20826675],\n",
       "        [0.40533961, 0.56170583, 0.75059717, 0.02595539]],\n",
       "\n",
       "       [[0.17386616, 0.79997939, 0.18855241, 0.89080647],\n",
       "        [0.08844935, 0.75765962, 0.82419526, 0.20408981]],\n",
       "\n",
       "       [[0.23008405, 0.83648363, 0.81166175, 0.83794146],\n",
       "        [0.35591968, 0.17594356, 0.97359872, 0.65315546]]])"
      ]
     },
     "execution_count": 7,
     "metadata": {},
     "output_type": "execute_result"
    }
   ],
   "source": [
    "arr1 = np.random.rand(3, 4)\n",
    "arr2 = np.random.rand(3, 4)\n",
    "\n",
    "stack = np.stack((arr1, arr2),axis=1)\n",
    "stack"
   ]
  },
  {
   "cell_type": "code",
   "execution_count": 8,
   "id": "47f28de7",
   "metadata": {},
   "outputs": [
    {
     "data": {
      "text/plain": [
       "array([[[1, 2],\n",
       "        [3, 4]],\n",
       "\n",
       "       [[5, 6],\n",
       "        [7, 8]]])"
      ]
     },
     "execution_count": 8,
     "metadata": {},
     "output_type": "execute_result"
    }
   ],
   "source": [
    "arr_3 = np.array([[1,2],[3,4]])\n",
    "arr_4 = np.array([[5,6],[7,8]])\n",
    "\n",
    "stack = np.stack((arr_3,arr_4),axis=0)\n",
    "stack"
   ]
  },
  {
   "cell_type": "code",
   "execution_count": 9,
   "id": "1a32d864",
   "metadata": {},
   "outputs": [
    {
     "data": {
      "text/plain": [
       "array([0.79948058, 0.99171754, 0.0516897 , 0.4609017 , 0.93128987,\n",
       "       0.80028486, 0.61003697, 0.50708498, 0.26846789, 0.44060666])"
      ]
     },
     "execution_count": 9,
     "metadata": {},
     "output_type": "execute_result"
    }
   ],
   "source": [
    "arr1 = np.random.rand(5) \n",
    "arr2 = np.random.rand(5)\n",
    "\n",
    "stack = np.hstack((arr1, arr2))\n",
    "stack"
   ]
  },
  {
   "cell_type": "code",
   "execution_count": 10,
   "id": "731d2f85",
   "metadata": {},
   "outputs": [
    {
     "data": {
      "text/plain": [
       "array([[[[ 1,  2],\n",
       "         [ 3,  4]],\n",
       "\n",
       "        [[ 9, 10],\n",
       "         [11, 12]]],\n",
       "\n",
       "\n",
       "       [[[ 5,  6],\n",
       "         [ 7,  8]],\n",
       "\n",
       "        [[13, 14],\n",
       "         [15, 16]]]])"
      ]
     },
     "execution_count": 10,
     "metadata": {},
     "output_type": "execute_result"
    }
   ],
   "source": [
    "arr5 = np.array([[[1, 2], [3, 4]], [[5, 6], [7, 8]]])\n",
    "arr6 = np.array([[[9, 10], [11, 12]], [[13, 14], [15, 16]]])\n",
    "\n",
    "stack = np.stack((arr5, arr6),axis=1)\n",
    "stack"
   ]
  },
  {
   "cell_type": "code",
   "execution_count": 11,
   "id": "851c0b36",
   "metadata": {},
   "outputs": [
    {
     "data": {
      "text/plain": [
       "array([[[ 1,  2],\n",
       "        [ 3,  4]],\n",
       "\n",
       "       [[ 5,  6],\n",
       "        [ 7,  8]],\n",
       "\n",
       "       [[ 9, 10],\n",
       "        [11, 12]],\n",
       "\n",
       "       [[13, 14],\n",
       "        [15, 16]]])"
      ]
     },
     "execution_count": 11,
     "metadata": {},
     "output_type": "execute_result"
    }
   ],
   "source": [
    "arr7 = np.array([[[1, 2], [3, 4]], [[5, 6], [7, 8]]])\n",
    "arr8 = np.array([[[9, 10], [11, 12]], [[13, 14], [15, 16]]])\n",
    "\n",
    "stack = np.vstack((arr7, arr8))\n",
    "stack"
   ]
  },
  {
   "cell_type": "markdown",
   "id": "95382e4c",
   "metadata": {},
   "source": [
    "# Task : 3"
   ]
  },
  {
   "cell_type": "code",
   "execution_count": 12,
   "id": "c929f541",
   "metadata": {},
   "outputs": [
    {
     "data": {
      "text/plain": [
       "190"
      ]
     },
     "execution_count": 12,
     "metadata": {},
     "output_type": "execute_result"
    }
   ],
   "source": [
    "arr1 = [2, 4, 6, 8, 10]\n",
    "arr2 = [1, 3, 5, 7, 9]\n",
    "product = np.dot(arr1,arr2)\n",
    "product"
   ]
  },
  {
   "cell_type": "code",
   "execution_count": 13,
   "id": "2ba7f306",
   "metadata": {},
   "outputs": [
    {
     "data": {
      "text/plain": [
       "array([[0.80605339, 0.08531481, 0.32701828],\n",
       "       [0.88838561, 0.11444491, 0.76536978],\n",
       "       [0.19272049, 0.38853513, 0.47975942]])"
      ]
     },
     "execution_count": 13,
     "metadata": {},
     "output_type": "execute_result"
    }
   ],
   "source": [
    "matrix = np.random.rand(3, 3)\n",
    "matrix"
   ]
  },
  {
   "cell_type": "code",
   "execution_count": 14,
   "id": "58b65aa1",
   "metadata": {},
   "outputs": [
    {
     "data": {
      "text/plain": [
       "array([[ 2.13522992, -0.758462  , -0.2454466 ],\n",
       "       [ 2.45438589, -2.85048887,  2.87445942],\n",
       "       [-2.84542133,  2.61315602, -0.14491819]])"
      ]
     },
     "execution_count": 14,
     "metadata": {},
     "output_type": "execute_result"
    }
   ],
   "source": [
    "inverse = np.linalg.inv(matrix)\n",
    "inverse"
   ]
  },
  {
   "cell_type": "code",
   "execution_count": 15,
   "id": "b657efa0",
   "metadata": {},
   "outputs": [
    {
     "data": {
      "text/plain": [
       "(array([[-0.12309149,  0.90453403,  0.40824829],\n",
       "        [-0.49236596,  0.30151134, -0.81649658],\n",
       "        [-0.86164044, -0.30151134,  0.40824829]]),\n",
       " array([[-8.12403840e+00, -9.60113630e+00, -1.10782342e+01],\n",
       "        [ 0.00000000e+00,  9.04534034e-01,  1.80906807e+00],\n",
       "        [ 0.00000000e+00,  0.00000000e+00, -1.11164740e-15]]))"
      ]
     },
     "execution_count": 15,
     "metadata": {},
     "output_type": "execute_result"
    }
   ],
   "source": [
    "arr3 = np.array([[1, 2, 3],\n",
    "                 [4, 5, 6],\n",
    "                 [7, 8, 9]])\n",
    "\n",
    "Q, R = np.linalg.qr(arr3)\n",
    "Q, R"
   ]
  },
  {
   "cell_type": "code",
   "execution_count": 16,
   "id": "ad162947",
   "metadata": {},
   "outputs": [
    {
     "data": {
      "text/plain": [
       "array([[0.40891304, 0.36703473, 0.43940163, 0.05100349],\n",
       "       [0.52178794, 0.91981712, 0.77464277, 0.64499003],\n",
       "       [0.78395344, 0.65156594, 0.37747033, 0.99023396],\n",
       "       [0.32250334, 0.62093071, 0.72528362, 0.69701228]])"
      ]
     },
     "execution_count": 16,
     "metadata": {},
     "output_type": "execute_result"
    }
   ],
   "source": [
    "matrix = np.random.rand(4,4)\n",
    "matrix"
   ]
  },
  {
   "cell_type": "code",
   "execution_count": 17,
   "id": "f9203967",
   "metadata": {},
   "outputs": [
    {
     "data": {
      "text/plain": [
       "array([0.40891304, 0.91981712, 0.37747033, 0.69701228])"
      ]
     },
     "execution_count": 17,
     "metadata": {},
     "output_type": "execute_result"
    }
   ],
   "source": [
    "diagonal = np.diag(matrix)\n",
    "diagonal"
   ]
  },
  {
   "cell_type": "code",
   "execution_count": 18,
   "id": "76fa97a0",
   "metadata": {},
   "outputs": [
    {
     "name": "stdout",
     "output_type": "stream",
     "text": [
      "[[ 2  4  6]\n",
      " [ 8 10 12]\n",
      " [14 16 18]]\n",
      "30\n",
      "[[120 144 168]\n",
      " [264 324 384]\n",
      " [408 504 600]]\n"
     ]
    }
   ],
   "source": [
    "arr4 = np.array([[2,4,6],[8,10,12],[14,16,18]])\n",
    "print(arr4)\n",
    "\n",
    "trace = np.trace(arr4)\n",
    "print(trace)\n",
    "\n",
    "product = np.dot(arr4,arr4)\n",
    "print(product)"
   ]
  },
  {
   "cell_type": "code",
   "execution_count": 19,
   "id": "c64a4f15",
   "metadata": {},
   "outputs": [
    {
     "data": {
      "text/plain": [
       "119.00000000000003"
      ]
     },
     "execution_count": 19,
     "metadata": {},
     "output_type": "execute_result"
    }
   ],
   "source": [
    "matrix = np.random.randint(1, 10, (3, 3))\n",
    "determinant = np.linalg.det(matrix)\n",
    "determinant"
   ]
  },
  {
   "cell_type": "code",
   "execution_count": 20,
   "id": "c65737dc",
   "metadata": {},
   "outputs": [
    {
     "data": {
      "text/plain": [
       "array([[1, 2],\n",
       "       [3, 4]])"
      ]
     },
     "execution_count": 20,
     "metadata": {},
     "output_type": "execute_result"
    }
   ],
   "source": [
    "arr_5 = np.array([[1,2],[3,4]])\n",
    "arr_5"
   ]
  },
  {
   "cell_type": "code",
   "execution_count": 21,
   "id": "5e04d863",
   "metadata": {},
   "outputs": [],
   "source": [
    "L, S, R = np.linalg.svd(arr_5)"
   ]
  },
  {
   "cell_type": "code",
   "execution_count": 22,
   "id": "c53fd1b1",
   "metadata": {},
   "outputs": [
    {
     "data": {
      "text/plain": [
       "array([[-0.40455358, -0.9145143 ],\n",
       "       [-0.9145143 ,  0.40455358]])"
      ]
     },
     "execution_count": 22,
     "metadata": {},
     "output_type": "execute_result"
    }
   ],
   "source": [
    "L"
   ]
  },
  {
   "cell_type": "code",
   "execution_count": 23,
   "id": "10b8c257",
   "metadata": {},
   "outputs": [
    {
     "data": {
      "text/plain": [
       "array([5.4649857 , 0.36596619])"
      ]
     },
     "execution_count": 23,
     "metadata": {},
     "output_type": "execute_result"
    }
   ],
   "source": [
    "S"
   ]
  },
  {
   "cell_type": "code",
   "execution_count": 24,
   "id": "5bfd4b4a",
   "metadata": {},
   "outputs": [
    {
     "data": {
      "text/plain": [
       "array([[-0.57604844, -0.81741556],\n",
       "       [ 0.81741556, -0.57604844]])"
      ]
     },
     "execution_count": 24,
     "metadata": {},
     "output_type": "execute_result"
    }
   ],
   "source": [
    "R"
   ]
  },
  {
   "cell_type": "code",
   "execution_count": 25,
   "id": "de453198",
   "metadata": {},
   "outputs": [
    {
     "data": {
      "text/plain": [
       "array([[1., 2.],\n",
       "       [3., 4.]])"
      ]
     },
     "execution_count": 25,
     "metadata": {},
     "output_type": "execute_result"
    }
   ],
   "source": [
    "L@(np.diag(S))@R"
   ]
  },
  {
   "cell_type": "code",
   "execution_count": 26,
   "id": "a4e0b8f0",
   "metadata": {},
   "outputs": [],
   "source": [
    "matrix = np.random.rand(4,4)\n",
    "matrix\n",
    "w, v = np.linalg.eig(matrix)"
   ]
  },
  {
   "cell_type": "code",
   "execution_count": 27,
   "id": "8b5157a1",
   "metadata": {},
   "outputs": [
    {
     "data": {
      "text/plain": [
       "array([ 1.63045478+0.j        ,  0.55380083+0.j        ,\n",
       "       -0.41115788+0.20805338j, -0.41115788-0.20805338j])"
      ]
     },
     "execution_count": 27,
     "metadata": {},
     "output_type": "execute_result"
    }
   ],
   "source": [
    "w"
   ]
  },
  {
   "cell_type": "code",
   "execution_count": 28,
   "id": "c92140a3",
   "metadata": {},
   "outputs": [
    {
     "data": {
      "text/plain": [
       "(4,)"
      ]
     },
     "execution_count": 28,
     "metadata": {},
     "output_type": "execute_result"
    }
   ],
   "source": [
    "w.shape"
   ]
  },
  {
   "cell_type": "code",
   "execution_count": 29,
   "id": "c636c57a",
   "metadata": {},
   "outputs": [
    {
     "data": {
      "text/plain": [
       "array([[ 0.3564296 +0.j        ,  0.51587957+0.j        ,\n",
       "        -0.14940652-0.00574901j, -0.14940652+0.00574901j],\n",
       "       [ 0.38754968+0.j        , -0.57523808+0.j        ,\n",
       "        -0.02711712-0.46450436j, -0.02711712+0.46450436j],\n",
       "       [ 0.54455991+0.j        , -0.33046171+0.j        ,\n",
       "        -0.18629071+0.55929113j, -0.18629071-0.55929113j],\n",
       "       [ 0.65285349+0.j        , -0.54200045+0.j        ,\n",
       "         0.643144  +0.j        ,  0.643144  -0.j        ]])"
      ]
     },
     "execution_count": 29,
     "metadata": {},
     "output_type": "execute_result"
    }
   ],
   "source": [
    "v"
   ]
  },
  {
   "cell_type": "code",
   "execution_count": 30,
   "id": "53bc7801",
   "metadata": {},
   "outputs": [
    {
     "data": {
      "text/plain": [
       "(4, 4)"
      ]
     },
     "execution_count": 30,
     "metadata": {},
     "output_type": "execute_result"
    }
   ],
   "source": [
    "v.shape"
   ]
  },
  {
   "cell_type": "code",
   "execution_count": 31,
   "id": "e71fd644",
   "metadata": {},
   "outputs": [
    {
     "data": {
      "text/plain": [
       "array([[0.18173516, 0.90582008, 0.7142415 , 0.27875305, 0.32708857],\n",
       "       [0.04515372, 0.60420218, 0.52590562, 0.01050443, 0.97774027],\n",
       "       [0.14316248, 0.02676894, 0.35262912, 0.9346639 , 0.08842118],\n",
       "       [0.05964535, 0.9618233 , 0.69266551, 0.88517323, 0.21118615],\n",
       "       [0.06484688, 0.43127027, 0.82681074, 0.0014221 , 0.05097335]])"
      ]
     },
     "execution_count": 31,
     "metadata": {},
     "output_type": "execute_result"
    }
   ],
   "source": [
    "matrix = np.random.rand(5,5)\n",
    "matrix"
   ]
  },
  {
   "cell_type": "code",
   "execution_count": 32,
   "id": "45dd15c8",
   "metadata": {},
   "outputs": [
    {
     "data": {
      "text/plain": [
       "2.6996479672348483"
      ]
     },
     "execution_count": 32,
     "metadata": {},
     "output_type": "execute_result"
    }
   ],
   "source": [
    "np.linalg.norm(matrix)"
   ]
  },
  {
   "cell_type": "code",
   "execution_count": 33,
   "id": "c90b9dc9",
   "metadata": {},
   "outputs": [
    {
     "data": {
      "text/plain": [
       "array([0.25164401, 1.51571269, 1.44030082, 1.31717269, 1.05734533])"
      ]
     },
     "execution_count": 33,
     "metadata": {},
     "output_type": "execute_result"
    }
   ],
   "source": [
    "np.linalg.norm(matrix,axis=0)"
   ]
  },
  {
   "cell_type": "code",
   "execution_count": 34,
   "id": "ec6bfa26",
   "metadata": {},
   "outputs": [
    {
     "data": {
      "text/plain": [
       "array([1.24433468, 1.26481707, 1.0133974 , 1.49551943, 0.93617064])"
      ]
     },
     "execution_count": 34,
     "metadata": {},
     "output_type": "execute_result"
    }
   ],
   "source": [
    "np.linalg.norm(matrix, axis=1)"
   ]
  },
  {
   "cell_type": "markdown",
   "id": "3ef1e268",
   "metadata": {},
   "source": [
    "# Task:4"
   ]
  },
  {
   "cell_type": "code",
   "execution_count": 41,
   "id": "b34430f2",
   "metadata": {},
   "outputs": [
    {
     "data": {
      "text/plain": [
       "array([1.85714286, 1.42857143])"
      ]
     },
     "execution_count": 41,
     "metadata": {},
     "output_type": "execute_result"
    }
   ],
   "source": [
    "a = np.array([[2, 3], [4, -1]])\n",
    "b = np.array([8, 6])\n",
    "x = np.linalg.solve(a, b)\n",
    "x"
   ]
  },
  {
   "cell_type": "code",
   "execution_count": 42,
   "id": "be0b221a",
   "metadata": {},
   "outputs": [
    {
     "data": {
      "text/plain": [
       "array([0.75  , 3.0625, 2.1875])"
      ]
     },
     "execution_count": 42,
     "metadata": {},
     "output_type": "execute_result"
    }
   ],
   "source": [
    "a = np.array([[1, 1, 1], [2, -1, 3], [3, 2, -2]])\n",
    "b = np.array([6, 5, 4])\n",
    "x = np.linalg.solve(a, b)\n",
    "x"
   ]
  },
  {
   "cell_type": "code",
   "execution_count": 43,
   "id": "994127c2",
   "metadata": {},
   "outputs": [
    {
     "data": {
      "text/plain": [
       "array([ 3.00000000e+00, -5.87765131e-16,  1.00000000e+00,  6.00000000e+00])"
      ]
     },
     "execution_count": 43,
     "metadata": {},
     "output_type": "execute_result"
    }
   ],
   "source": [
    "a = np.array([[1, 1, 1, 1], [2, -1, 3, -1], [3, 2, 2, 1], [4, -3, 1, -2]])\n",
    "b = np.array([10, 3, 17, 1])\n",
    "x = np.linalg.solve(a,b)\n",
    "x"
   ]
  },
  {
   "cell_type": "code",
   "execution_count": 44,
   "id": "8d2bc4e3",
   "metadata": {},
   "outputs": [
    {
     "data": {
      "text/plain": [
       "array([2.86956522, 1.34782609])"
      ]
     },
     "execution_count": 44,
     "metadata": {},
     "output_type": "execute_result"
    }
   ],
   "source": [
    "a = np.array([[3, 4], [2, -5]])\n",
    "b = np.array([14, -1])\n",
    "x = np.linalg.solve(a,b)\n",
    "x"
   ]
  },
  {
   "cell_type": "code",
   "execution_count": 45,
   "id": "b2508c45",
   "metadata": {},
   "outputs": [
    {
     "data": {
      "text/plain": [
       "array([3.09090909, 0.90909091, 2.72727273])"
      ]
     },
     "execution_count": 45,
     "metadata": {},
     "output_type": "execute_result"
    }
   ],
   "source": [
    "a = np.array([[2, -1, 1], [4, 2, -3], [-2, 3, 2]])\n",
    "b = np.array([8, 6, 2])\n",
    "x = np.linalg.solve(a, b)\n",
    "x"
   ]
  },
  {
   "cell_type": "code",
   "execution_count": 46,
   "id": "c0f78d97",
   "metadata": {},
   "outputs": [
    {
     "data": {
      "text/plain": [
       "array([1. , 1.5, 1.5, 2. ])"
      ]
     },
     "execution_count": 46,
     "metadata": {},
     "output_type": "execute_result"
    }
   ],
   "source": [
    "a = np.array([[1, 1, -1, 1], [2, -1, 3, 1], [1, 2, -2, -1], [4, -3, 1, 2]])\n",
    "b = np.array([3, 7, -1, 5])\n",
    "x = np.linalg.solve(a,b)\n",
    "x"
   ]
  },
  {
   "cell_type": "markdown",
   "id": "6ab37c2f",
   "metadata": {},
   "source": [
    "# Task: 5"
   ]
  },
  {
   "cell_type": "code",
   "execution_count": 47,
   "id": "3cce5d2d",
   "metadata": {},
   "outputs": [
    {
     "name": "stdout",
     "output_type": "stream",
     "text": [
      "Weights and Bias: [-1.04032624e-16  1.00000000e+00  1.00000000e+00]\n",
      "Predictions for new data: [22. 27.]\n"
     ]
    }
   ],
   "source": [
    "x = np.array([[1, 2], [3, 4], [5, 6], [7, 8]])\n",
    "y = np.array([3, 7, 11, 15])\n",
    "\n",
    "x_bias = np.c_[np.ones(x.shape[0]), x]\n",
    "\n",
    "weights_and_bias = np.linalg.lstsq(x_bias, y, rcond=None)[0]\n",
    "\n",
    "x_new = np.array([[10, 12], [13, 14]])\n",
    "x_new_bias = np.c_[np.ones(x_new.shape[0]), x_new]\n",
    "\n",
    "predictions = np.dot(x_new_bias, weights_and_bias)\n",
    "\n",
    "print(\"Weights and Bias:\", weights_and_bias)\n",
    "print(\"Predictions for new data:\", predictions)\n"
   ]
  },
  {
   "cell_type": "code",
   "execution_count": null,
   "id": "e8b08212",
   "metadata": {},
   "outputs": [],
   "source": []
  }
 ],
 "metadata": {
  "kernelspec": {
   "display_name": "Python 3 (ipykernel)",
   "language": "python",
   "name": "python3"
  },
  "language_info": {
   "codemirror_mode": {
    "name": "ipython",
    "version": 3
   },
   "file_extension": ".py",
   "mimetype": "text/x-python",
   "name": "python",
   "nbconvert_exporter": "python",
   "pygments_lexer": "ipython3",
   "version": "3.9.7"
  }
 },
 "nbformat": 4,
 "nbformat_minor": 5
}
