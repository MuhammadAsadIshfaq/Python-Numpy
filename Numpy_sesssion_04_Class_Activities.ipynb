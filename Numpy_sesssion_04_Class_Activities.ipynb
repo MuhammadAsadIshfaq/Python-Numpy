{
 "cells": [
  {
   "cell_type": "code",
   "execution_count": 2,
   "id": "cd43eefa",
   "metadata": {},
   "outputs": [
    {
     "data": {
      "text/plain": [
       "[5, 8, 10, 13, 15, 19, 27, 31, 36, 42]"
      ]
     },
     "execution_count": 2,
     "metadata": {},
     "output_type": "execute_result"
    }
   ],
   "source": [
    "arr = [27, 15, 8, 42, 5, 13, 36, 19, 10, 31]\n",
    "arr.sort()\n",
    "arr"
   ]
  },
  {
   "cell_type": "code",
   "execution_count": 4,
   "id": "3f555229",
   "metadata": {},
   "outputs": [
    {
     "data": {
      "text/plain": [
       "array([-1.2666099 , -0.43213385,  0.24746069,  1.44333794, -0.23476354,\n",
       "       -0.89354781,  0.70349801, -0.19559553,  0.49822382, -1.97075125,\n",
       "       -0.43632775,  0.71025855,  0.1714224 ,  1.14244052,  0.35764937])"
      ]
     },
     "execution_count": 4,
     "metadata": {},
     "output_type": "execute_result"
    }
   ],
   "source": [
    "import numpy as np\n",
    "a = np.random.randn(15)\n",
    "a"
   ]
  },
  {
   "cell_type": "code",
   "execution_count": 7,
   "id": "7a74e988",
   "metadata": {},
   "outputs": [
    {
     "data": {
      "text/plain": [
       "array([-1.97075125, -1.2666099 , -0.89354781, -0.43632775, -0.43213385,\n",
       "       -0.23476354, -0.19559553,  0.1714224 ,  0.24746069,  0.35764937,\n",
       "        0.49822382,  0.70349801,  0.71025855,  1.14244052,  1.44333794])"
      ]
     },
     "execution_count": 7,
     "metadata": {},
     "output_type": "execute_result"
    }
   ],
   "source": [
    "a.sort()\n",
    "a"
   ]
  },
  {
   "cell_type": "code",
   "execution_count": 8,
   "id": "e4dae23a",
   "metadata": {},
   "outputs": [
    {
     "data": {
      "text/plain": [
       "array([[14, 29,  5],\n",
       "       [37,  8, 21],\n",
       "       [10, 46, 18]])"
      ]
     },
     "execution_count": 8,
     "metadata": {},
     "output_type": "execute_result"
    }
   ],
   "source": [
    "matrix = np.array([[14,29,5],[37,8,21],[10,46,18]])\n",
    "matrix"
   ]
  },
  {
   "cell_type": "code",
   "execution_count": 9,
   "id": "c459239f",
   "metadata": {},
   "outputs": [
    {
     "data": {
      "text/plain": [
       "array([[ 5, 14, 29],\n",
       "       [ 8, 21, 37],\n",
       "       [10, 18, 46]])"
      ]
     },
     "execution_count": 9,
     "metadata": {},
     "output_type": "execute_result"
    }
   ],
   "source": [
    "matrix.sort()\n",
    "matrix"
   ]
  },
  {
   "cell_type": "code",
   "execution_count": 15,
   "id": "9a0554a6",
   "metadata": {},
   "outputs": [
    {
     "data": {
      "text/plain": [
       "array([[-0.65377385, -0.79475442,  1.68366043, -0.08249089],\n",
       "       [-2.32066131,  0.57208985,  0.83619769,  1.07656499],\n",
       "       [-0.81342375,  0.67163128,  0.34363129, -0.29075047],\n",
       "       [-0.19885252,  0.02082002,  0.57955439,  0.87836795]])"
      ]
     },
     "execution_count": 15,
     "metadata": {},
     "output_type": "execute_result"
    }
   ],
   "source": [
    "a = np.random.randn(4,4)\n",
    "a"
   ]
  },
  {
   "cell_type": "code",
   "execution_count": 16,
   "id": "86971a6a",
   "metadata": {},
   "outputs": [
    {
     "data": {
      "text/plain": [
       "array([[-2.32066131, -0.79475442,  0.34363129, -0.29075047],\n",
       "       [-0.81342375,  0.02082002,  0.57955439, -0.08249089],\n",
       "       [-0.65377385,  0.57208985,  0.83619769,  0.87836795],\n",
       "       [-0.19885252,  0.67163128,  1.68366043,  1.07656499]])"
      ]
     },
     "execution_count": 16,
     "metadata": {},
     "output_type": "execute_result"
    }
   ],
   "source": [
    "a.sort(axis=0)\n",
    "a"
   ]
  },
  {
   "cell_type": "code",
   "execution_count": 17,
   "id": "15248a1d",
   "metadata": {},
   "outputs": [
    {
     "data": {
      "text/plain": [
       "[57, 24, 10, 35, 48, 13, 29, 42, 5, 18]"
      ]
     },
     "execution_count": 17,
     "metadata": {},
     "output_type": "execute_result"
    }
   ],
   "source": [
    "data = [57, 24, 10, 35, 48, 13, 29, 42, 5, 18]\n",
    "data"
   ]
  },
  {
   "cell_type": "code",
   "execution_count": 24,
   "id": "bfc20412",
   "metadata": {},
   "outputs": [
    {
     "data": {
      "text/plain": [
       "array([10, 24, 35, 48, 57])"
      ]
     },
     "execution_count": 24,
     "metadata": {},
     "output_type": "execute_result"
    }
   ],
   "source": [
    "np.sort(data[:5])"
   ]
  },
  {
   "cell_type": "code",
   "execution_count": 29,
   "id": "73190893",
   "metadata": {},
   "outputs": [
    {
     "data": {
      "text/plain": [
       "array([6, 4, 2, 2, 5, 7, 2, 5, 0, 9, 7, 4, 6, 1, 9, 4, 2, 6, 0, 0, 4])"
      ]
     },
     "execution_count": 29,
     "metadata": {},
     "output_type": "execute_result"
    }
   ],
   "source": [
    "b = np.random.randint(0,10,21)\n",
    "b"
   ]
  },
  {
   "cell_type": "code",
   "execution_count": 33,
   "id": "5585b189",
   "metadata": {},
   "outputs": [
    {
     "data": {
      "text/plain": [
       "array([0, 0, 0, 1, 2, 2, 2, 2, 4, 4, 4, 4, 5, 5, 6, 6, 6, 7, 7, 9, 9])"
      ]
     },
     "execution_count": 33,
     "metadata": {},
     "output_type": "execute_result"
    }
   ],
   "source": [
    "c = np.sort(b)\n",
    "c"
   ]
  },
  {
   "cell_type": "code",
   "execution_count": 36,
   "id": "a228768c",
   "metadata": {},
   "outputs": [
    {
     "data": {
      "text/plain": [
       "array([[43, 19,  7],\n",
       "       [30, 52, 14],\n",
       "       [ 8, 36, 27]])"
      ]
     },
     "execution_count": 36,
     "metadata": {},
     "output_type": "execute_result"
    }
   ],
   "source": [
    "matrix = np.array([[43,19,7],[30,52,14],[8,36,27]])\n",
    "matrix"
   ]
  },
  {
   "cell_type": "code",
   "execution_count": 37,
   "id": "f60bd216",
   "metadata": {},
   "outputs": [
    {
     "data": {
      "text/plain": [
       "array([[ 8, 19,  7],\n",
       "       [30, 36, 14],\n",
       "       [43, 52, 27]])"
      ]
     },
     "execution_count": 37,
     "metadata": {},
     "output_type": "execute_result"
    }
   ],
   "source": [
    "c = np.sort(matrix,axis=0)\n",
    "c"
   ]
  },
  {
   "cell_type": "code",
   "execution_count": 38,
   "id": "1e57795d",
   "metadata": {},
   "outputs": [
    {
     "data": {
      "text/plain": [
       "array([[ 0.06094086, -0.78812028,  0.78415831,  0.88584436,  0.22801634],\n",
       "       [ 0.52364002,  0.09223447, -0.42495439, -1.82888081, -0.19362614],\n",
       "       [ 1.12566418, -1.6176467 ,  0.74752666, -0.48830099, -1.01864111],\n",
       "       [-1.19947159, -0.04123514,  0.28978905,  0.18979253,  1.04687341],\n",
       "       [-0.05024884, -0.65820586, -1.75514581, -0.969268  , -0.01467607]])"
      ]
     },
     "execution_count": 38,
     "metadata": {},
     "output_type": "execute_result"
    }
   ],
   "source": [
    "a = np.random.randn(5,5)\n",
    "a"
   ]
  },
  {
   "cell_type": "code",
   "execution_count": 39,
   "id": "8f1a8271",
   "metadata": {},
   "outputs": [
    {
     "data": {
      "text/plain": [
       "array([[-0.78812028,  0.06094086,  0.22801634,  0.78415831,  0.88584436],\n",
       "       [-1.82888081, -0.42495439, -0.19362614,  0.09223447,  0.52364002],\n",
       "       [-1.6176467 , -1.01864111, -0.48830099,  0.74752666,  1.12566418],\n",
       "       [-1.19947159, -0.04123514,  0.18979253,  0.28978905,  1.04687341],\n",
       "       [-1.75514581, -0.969268  , -0.65820586, -0.05024884, -0.01467607]])"
      ]
     },
     "execution_count": 39,
     "metadata": {},
     "output_type": "execute_result"
    }
   ],
   "source": [
    "c = np.sort(a)\n",
    "c"
   ]
  },
  {
   "cell_type": "code",
   "execution_count": 40,
   "id": "197be54f",
   "metadata": {},
   "outputs": [
    {
     "data": {
      "text/plain": [
       "[23, 17, 41, 9, 32, 12, 5, 28, 14, 36]"
      ]
     },
     "execution_count": 40,
     "metadata": {},
     "output_type": "execute_result"
    }
   ],
   "source": [
    "data = [23, 17, 41, 9, 32, 12, 5, 28, 14, 36]\n",
    "data"
   ]
  },
  {
   "cell_type": "code",
   "execution_count": 41,
   "id": "26571837",
   "metadata": {},
   "outputs": [],
   "source": [
    "data.sort()"
   ]
  },
  {
   "cell_type": "code",
   "execution_count": 42,
   "id": "3859212c",
   "metadata": {},
   "outputs": [
    {
     "data": {
      "text/plain": [
       "[5, 9, 12, 14, 17, 23, 28, 32, 36, 41]"
      ]
     },
     "execution_count": 42,
     "metadata": {},
     "output_type": "execute_result"
    }
   ],
   "source": [
    "data"
   ]
  },
  {
   "cell_type": "code",
   "execution_count": 44,
   "id": "a1370ab8",
   "metadata": {},
   "outputs": [
    {
     "data": {
      "text/plain": [
       "array([16, 23, 25,  9, 12, 24,  1, 17, 29,  5, 17,  9, 29, 20, 10,  9,  7,\n",
       "       27,  8, 16, 12, 29,  5, 20,  2])"
      ]
     },
     "execution_count": 44,
     "metadata": {},
     "output_type": "execute_result"
    }
   ],
   "source": [
    "d = np.random.randint(0,30,25)\n",
    "d"
   ]
  },
  {
   "cell_type": "code",
   "execution_count": 45,
   "id": "f3d2a78f",
   "metadata": {},
   "outputs": [
    {
     "data": {
      "text/plain": [
       "array([ 1,  2,  5,  5,  7,  8,  9,  9,  9, 10, 12, 12, 16, 16, 17, 17, 20,\n",
       "       20, 23, 24, 25, 27, 29, 29, 29])"
      ]
     },
     "execution_count": 45,
     "metadata": {},
     "output_type": "execute_result"
    }
   ],
   "source": [
    "c = np.sort(d)\n",
    "c"
   ]
  },
  {
   "cell_type": "markdown",
   "id": "1cae3f7e",
   "metadata": {},
   "source": [
    "# Task: 2"
   ]
  },
  {
   "cell_type": "code",
   "execution_count": 46,
   "id": "3ab49a7b",
   "metadata": {},
   "outputs": [
    {
     "data": {
      "text/plain": [
       "(array([ 5,  7, 12, 15, 18, 29, 42]),\n",
       " array([9, 1, 3, 0, 8, 2, 5], dtype=int64))"
      ]
     },
     "execution_count": 46,
     "metadata": {},
     "output_type": "execute_result"
    }
   ],
   "source": [
    "arr1 = [15, 7, 29, 12, 7, 42, 15, 29, 18, 5]\n",
    "arr2 = [29, 5, 12, 8, 18, 42, 15, 7, 10, 23]\n",
    "c = np.unique(arr1,arr2)\n",
    "c"
   ]
  },
  {
   "cell_type": "code",
   "execution_count": 47,
   "id": "c177a5c9",
   "metadata": {},
   "outputs": [
    {
     "data": {
      "text/plain": [
       "array([27, 20, 14, 28,  8,  4, 13,  1, 18, 14, 27, 26, 28, 24, 23, 11, 26,\n",
       "       25,  0,  6])"
      ]
     },
     "execution_count": 47,
     "metadata": {},
     "output_type": "execute_result"
    }
   ],
   "source": [
    "d = np.random.randint(0,30,20)\n",
    "d"
   ]
  },
  {
   "cell_type": "code",
   "execution_count": 48,
   "id": "df0831f9",
   "metadata": {},
   "outputs": [
    {
     "data": {
      "text/plain": [
       "array([ 0,  1,  4,  6,  8, 11, 13, 14, 18, 20, 23, 24, 25, 26, 27, 28])"
      ]
     },
     "execution_count": 48,
     "metadata": {},
     "output_type": "execute_result"
    }
   ],
   "source": [
    "c = np.unique(d)\n",
    "c"
   ]
  },
  {
   "cell_type": "code",
   "execution_count": 49,
   "id": "5220c2b7",
   "metadata": {},
   "outputs": [
    {
     "data": {
      "text/plain": [
       "array([ 7, 29])"
      ]
     },
     "execution_count": 49,
     "metadata": {},
     "output_type": "execute_result"
    }
   ],
   "source": [
    "arr3 = [12, 5, 18, 7, 29, 42]\n",
    "arr4 = [7, 10, 23, 29]\n",
    "c = np.intersect1d(arr3,arr4)\n",
    "c"
   ]
  },
  {
   "cell_type": "code",
   "execution_count": 50,
   "id": "a8767329",
   "metadata": {},
   "outputs": [
    {
     "data": {
      "text/plain": [
       "(array([29,  3, 12, 19, 14, 14,  1, 27, 19, 23,  5,  7, 29, 15, 21]),\n",
       " array([16, 14, 28,  9, 23,  7, 15, 11, 21, 29,  6, 12, 29, 18, 11]))"
      ]
     },
     "execution_count": 50,
     "metadata": {},
     "output_type": "execute_result"
    }
   ],
   "source": [
    "d = np.random.randint(0,30,15)\n",
    "e = np.random.randint(0,30,15)\n",
    "d,e"
   ]
  },
  {
   "cell_type": "code",
   "execution_count": 51,
   "id": "e9d6e3c0",
   "metadata": {},
   "outputs": [
    {
     "data": {
      "text/plain": [
       "array([ 7, 12, 14, 15, 21, 23, 29])"
      ]
     },
     "execution_count": 51,
     "metadata": {},
     "output_type": "execute_result"
    }
   ],
   "source": [
    "c = np.intersect1d(d,e)\n",
    "c"
   ]
  },
  {
   "cell_type": "code",
   "execution_count": 52,
   "id": "b13b576e",
   "metadata": {},
   "outputs": [
    {
     "data": {
      "text/plain": [
       "(array([ 5,  7, 12, 15, 18, 29, 42]),\n",
       " array([9, 1, 3, 0, 8, 2, 5], dtype=int64))"
      ]
     },
     "execution_count": 52,
     "metadata": {},
     "output_type": "execute_result"
    }
   ],
   "source": [
    "arr5 = [15, 7, 29, 12, 7, 42, 15, 29, 18, 5]\n",
    "arr6 = [29, 5, 12, 8, 18, 42, 15, 7, 10, 23]\n",
    "c = np.unique(arr5,arr6)\n",
    "c"
   ]
  },
  {
   "cell_type": "code",
   "execution_count": 53,
   "id": "b35c28f1",
   "metadata": {},
   "outputs": [
    {
     "data": {
      "text/plain": [
       "(array([17, 24, 14,  1, 24, 13, 22, 16, 10, 25, 21, 14,  1, 26, 25, 29,  6,\n",
       "         7,  8, 19, 26,  0, 20,  3, 14]),\n",
       " array([15,  7,  9, 13,  3, 14, 14,  9, 24, 15, 25,  7,  3,  0, 28,  8,  9,\n",
       "        18, 23, 15, 23,  4, 27,  8, 14]))"
      ]
     },
     "execution_count": 53,
     "metadata": {},
     "output_type": "execute_result"
    }
   ],
   "source": [
    "d = np.random.randint(0,30,25)\n",
    "e = np.random.randint(0,30,25)\n",
    "d,e"
   ]
  },
  {
   "cell_type": "code",
   "execution_count": 56,
   "id": "4c697ab0",
   "metadata": {},
   "outputs": [
    {
     "data": {
      "text/plain": [
       "(array([ 0,  1,  3,  6,  7,  8, 10, 13, 14, 16, 17, 19, 20, 21, 22, 24, 25,\n",
       "        26, 29]),\n",
       " array([ 0,  3,  4,  7,  8,  9, 13, 14, 15, 18, 23, 24, 25, 27, 28]))"
      ]
     },
     "execution_count": 56,
     "metadata": {},
     "output_type": "execute_result"
    }
   ],
   "source": [
    "c = np.unique(d)\n",
    "g = np.unique(e)\n",
    "c,g"
   ]
  },
  {
   "cell_type": "code",
   "execution_count": 57,
   "id": "450b65e0",
   "metadata": {},
   "outputs": [
    {
     "data": {
      "text/plain": [
       "array([ 5,  7,  8, 10, 12, 15, 18, 23, 29, 42])"
      ]
     },
     "execution_count": 57,
     "metadata": {},
     "output_type": "execute_result"
    }
   ],
   "source": [
    "arr7 = [15, 7, 29, 12, 7, 42, 15, 29, 18, 5]\n",
    "arr8 = [29, 5, 12, 8, 18, 42, 15, 7, 10, 23]\n",
    "c = np.union1d(arr7,arr8)\n",
    "c"
   ]
  },
  {
   "cell_type": "code",
   "execution_count": 59,
   "id": "a92cf99f",
   "metadata": {},
   "outputs": [
    {
     "data": {
      "text/plain": [
       "array([ 0,  1,  2,  3,  4,  5,  8,  9, 10, 11, 12, 13, 14, 15, 16, 17, 18,\n",
       "       20, 21, 22, 23, 24, 25, 26, 27, 29])"
      ]
     },
     "execution_count": 59,
     "metadata": {},
     "output_type": "execute_result"
    }
   ],
   "source": [
    "d = np.random.randint(0,30,30)\n",
    "e = np.random.randint(0,30,30)\n",
    "d,e\n",
    "c = np.union1d(d,e)\n",
    "c"
   ]
  },
  {
   "cell_type": "code",
   "execution_count": 60,
   "id": "68809b17",
   "metadata": {},
   "outputs": [
    {
     "data": {
      "text/plain": [
       "array([ 5,  7, 12, 15, 18, 29, 42])"
      ]
     },
     "execution_count": 60,
     "metadata": {},
     "output_type": "execute_result"
    }
   ],
   "source": [
    "arr9 = [15, 7, 29, 12, 7, 42, 15, 29, 18, 5]\n",
    "arr10 = [29, 5, 12, 8, 18, 42, 15, 7, 10, 23]\n",
    "np.unique(arr9)"
   ]
  },
  {
   "cell_type": "code",
   "execution_count": 62,
   "id": "ba1e9b67",
   "metadata": {},
   "outputs": [
    {
     "data": {
      "text/plain": [
       "array([ 0,  1,  2,  3,  4,  5,  6,  7,  8,  9, 10, 12, 13, 14, 20, 22, 23,\n",
       "       25, 26, 27, 28])"
      ]
     },
     "execution_count": 62,
     "metadata": {},
     "output_type": "execute_result"
    }
   ],
   "source": [
    "d = np.random.randint(0,30,35)\n",
    "e = np.random.randint(0,30,35)\n",
    "d,e\n",
    "np.unique(d)"
   ]
  },
  {
   "cell_type": "markdown",
   "id": "e0139715",
   "metadata": {},
   "source": [
    "# Task: 3"
   ]
  },
  {
   "cell_type": "code",
   "execution_count": 2,
   "id": "82503b05",
   "metadata": {},
   "outputs": [
    {
     "name": "stdout",
     "output_type": "stream",
     "text": [
      "[50 26 76 41  2 19 77 23 89  4 40 90 56 97 44]\n",
      "[[0.2261401  0.81405625 0.21202717 0.61436868 0.21235708 0.85254154]\n",
      " [0.08735531 0.37337513 0.50249802 0.12897678 0.76502146 0.87096821]\n",
      " [0.10303633 0.10341055 0.19551782 0.18350885 0.96451262 0.70405437]\n",
      " [0.16749664 0.30410807 0.85422218 0.56504877 0.08801334 0.37216312]]\n",
      "[-0.10397509 -1.28897683  0.14446134  1.76637184  0.41383183 -0.02525954\n",
      "  0.85842687 -0.61988389  0.54141603 -0.84135544 -0.74649503 -0.82693108\n",
      " -0.36303851  0.4470879   1.58403363 -0.55478492 -0.13604924 -2.88771522\n",
      "  0.18960268  0.3513221 ]\n",
      "[[  9 -36  12]\n",
      " [  5 -13  25]\n",
      " [  2  37 -22]]\n",
      "[0.44681908 0.05928301 0.95469142 0.47753724 0.30336078 0.94193351\n",
      " 0.06851691 0.25972789 0.06746764 0.37652595 0.86447265 0.20263916\n",
      " 0.07329602 0.1895453  0.99245575 0.32856585 0.39886134 0.89615635\n",
      " 0.03827998 0.02851922 0.37076346 0.97942519 0.14343933 0.69875046\n",
      " 0.44144849]\n",
      "[[1 1 1 1 0]\n",
      " [1 1 1 0 0]\n",
      " [1 1 0 1 0]\n",
      " [1 1 1 1 0]\n",
      " [1 0 0 0 0]]\n",
      "[[51 92 14]\n",
      " [71 60 20]\n",
      " [82 86 74]]\n",
      "[[66 92 98 17]\n",
      " [83 57 86 97]\n",
      " [96 47 73 32]\n",
      " [46 96 25 83]\n",
      " [78 36 96 80]\n",
      " [68 49 55 67]]\n"
     ]
    }
   ],
   "source": [
    "import numpy as np\n",
    "array1 = np.random.randint(1, 101, 15)\n",
    "print(array1)\n",
    "\n",
    "array2 = np.random.rand(4, 6)\n",
    "print(array2)\n",
    "\n",
    "array3 = np.random.randn(20)\n",
    "print(array3)\n",
    "\n",
    "matrix4 = np.random.randint(-50, 51, (3, 3))\n",
    "print(matrix4)\n",
    "\n",
    "array5 = np.random.uniform(0, 1, 25)\n",
    "print(array5)\n",
    "\n",
    "array6 = np.random.binomial(1, 0.5, (5, 5))\n",
    "print(array6)\n",
    "\n",
    "np.random.seed(42)\n",
    "matrix7 = np.random.randint(0, 101, (3, 3))\n",
    "print(matrix7)\n",
    "\n",
    "rng = np.random.RandomState(123)\n",
    "array8 = rng.randint(0, 101, (6, 4))\n",
    "print(array8)\n"
   ]
  },
  {
   "cell_type": "markdown",
   "id": "43dd3ba2",
   "metadata": {},
   "source": [
    "# Task;4"
   ]
  },
  {
   "cell_type": "code",
   "execution_count": 3,
   "id": "f8f5288e",
   "metadata": {},
   "outputs": [
    {
     "name": "stdout",
     "output_type": "stream",
     "text": [
      "Reshaped Array 1:\n",
      " [[ 2  4  6  8]\n",
      " [10 12 14 16]]\n",
      "Original random array 2: [ 75  88 100  24   3  22  53   2  88  30  38   2  64  60  21  33  76  58\n",
      "  22  89]\n",
      "Reshaped Array 2:\n",
      " [[ 75  88 100  24   3]\n",
      " [ 22  53   2  88  30]\n",
      " [ 38   2  64  60  21]\n",
      " [ 33  76  58  22  89]]\n",
      "Reshaped Array 3:\n",
      " [[ 1  3  5  7]\n",
      " [ 9 11 13 15]]\n",
      "Original random array 4: [49 91 59 42 92 60 80 15 62 62 47 62 51 55 64  3 51  7 21 73 39 18  4 89\n",
      " 60 14  9 90 53  2]\n",
      "Reshaped Array 4:\n",
      " [[49 91 59 42 92 60 80 15 62 62]\n",
      " [47 62 51 55 64  3 51  7 21 73]\n",
      " [39 18  4 89 60 14  9 90 53  2]]\n",
      "Reshaped Array 5:\n",
      " [[ 2  4]\n",
      " [ 6  8]\n",
      " [10 12]\n",
      " [14 16]\n",
      " [18 20]]\n",
      "Original random array 6: [84 92 60 71 44  8 47 35 78 81 36 50  4  2  6 54  4 54 93 63 18 90 44 34\n",
      " 74]\n",
      "Reshaped Array 6:\n",
      " [[84 92 60 71 44]\n",
      " [ 8 47 35 78 81]\n",
      " [36 50  4  2  6]\n",
      " [54  4 54 93 63]\n",
      " [18 90 44 34 74]]\n",
      "Reshaped Array 7:\n",
      " [[ 1  2  3]\n",
      " [ 4  5  6]\n",
      " [ 7  8  9]\n",
      " [10 11 12]]\n",
      "Original random array 8: [ 62 100  14  95  48  15  72  78  87  62  40  85  80  82  53]\n",
      "Reshaped Array 8:\n",
      " [[ 62 100  14  95  48]\n",
      " [ 15  72  78  87  62]\n",
      " [ 40  85  80  82  53]]\n",
      "Reshaped Array 9:\n",
      " [[ 2  4]\n",
      " [ 6  8]\n",
      " [10 12]\n",
      " [14 16]\n",
      " [18 20]\n",
      " [22 24]]\n",
      "Original random array 10: [24 26 89 60 41 29 15 45 65 89 71  9 88  1  8 88 63 11]\n",
      "Reshaped Array 10:\n",
      " [[24 26 89 60 41 29]\n",
      " [15 45 65 89 71  9]\n",
      " [88  1  8 88 63 11]]\n"
     ]
    }
   ],
   "source": [
    "arr1 = np.array([2, 4, 6, 8, 10, 12, 14, 16])\n",
    "reshaped_arr1 = arr1.reshape(2, -1)\n",
    "print(\"Reshaped Array 1:\\n\", reshaped_arr1)\n",
    "\n",
    "random_array2 = np.random.randint(1, 101, 20)\n",
    "reshaped_arr2 = random_array2.reshape(4, 5)\n",
    "print(\"Original random array 2:\", random_array2)\n",
    "print(\"Reshaped Array 2:\\n\", reshaped_arr2)\n",
    "\n",
    "arr3 = np.array([1, 3, 5, 7, 9, 11, 13, 15])\n",
    "reshaped_arr3 = arr3.reshape(-1, 4)\n",
    "print(\"Reshaped Array 3:\\n\", reshaped_arr3)\n",
    "\n",
    "random_array4 = np.random.randint(1, 101, 30)\n",
    "reshaped_arr4 = random_array4.reshape(3, 10)\n",
    "print(\"Original random array 4:\", random_array4)\n",
    "print(\"Reshaped Array 4:\\n\", reshaped_arr4)\n",
    "\n",
    "arr5 = np.array([2, 4, 6, 8, 10, 12, 14, 16, 18, 20])\n",
    "reshaped_arr5 = arr5.reshape(5, -1)\n",
    "print(\"Reshaped Array 5:\\n\", reshaped_arr5)\n",
    "\n",
    "random_array6 = np.random.randint(1, 101, 25)\n",
    "reshaped_arr6 = random_array6.reshape(5, 5)\n",
    "print(\"Original random array 6:\", random_array6)\n",
    "print(\"Reshaped Array 6:\\n\", reshaped_arr6)\n",
    "\n",
    "arr7 = np.array([1, 2, 3, 4, 5, 6, 7, 8, 9, 10, 11, 12])\n",
    "reshaped_arr7 = arr7.reshape(-1, 3)\n",
    "print(\"Reshaped Array 7:\\n\", reshaped_arr7)\n",
    "\n",
    "random_array8 = np.random.randint(1, 101, 15)\n",
    "reshaped_arr8 = random_array8.reshape(3, 5)\n",
    "print(\"Original random array 8:\", random_array8)\n",
    "print(\"Reshaped Array 8:\\n\", reshaped_arr8)\n",
    "\n",
    "arr9 = np.array([2, 4, 6, 8, 10, 12, 14, 16, 18, 20, 22, 24])\n",
    "reshaped_arr9 = arr9.reshape(6, -1)\n",
    "print(\"Reshaped Array 9:\\n\", reshaped_arr9)\n",
    "\n",
    "random_array10 = np.random.randint(1, 101, 18)\n",
    "reshaped_arr10 = random_array10.reshape(3, 6)\n",
    "print(\"Original random array 10:\", random_array10)\n",
    "print(\"Reshaped Array 10:\\n\", reshaped_arr10)\n"
   ]
  },
  {
   "cell_type": "code",
   "execution_count": 4,
   "id": "e2279495",
   "metadata": {},
   "outputs": [
    {
     "name": "stdout",
     "output_type": "stream",
     "text": [
      "Reshaped Array 1: [ 2  4  6  8 10 12 14 16]\n",
      "Original random array 2:\n",
      " [[81  8 35 35 33  5]\n",
      " [41 28  7 73 72 12]\n",
      " [34 33 48 23 62 88]]\n",
      "Reshaped Array 2: [81  8 35 35 33  5 41 28  7 73 72 12 34 33 48 23 62 88]\n",
      "Reshaped Array 3: [ 1  3  5  7  9 11 13 15 17]\n",
      "Original random array 4:\n",
      " [[37 99 44 86]\n",
      " [91 35 65 99]\n",
      " [47 78  3  1]\n",
      " [ 5 90 14 27]]\n",
      "Reshaped Array 4: [37 99 44 86 91 35 65 99 47 78  3  1  5 90 14 27]\n",
      "Reshaped Array 5: [ 2  4  6  8 10 12 14 16 18]\n",
      "Original random array 6:\n",
      " [[ 9 79 15]\n",
      " [90 42 77]\n",
      " [51 63 96]\n",
      " [52 96  4]\n",
      " [94 23 15]]\n",
      "Reshaped Array 6: [ 9 79 15 90 42 77 51 63 96 52 96  4 94 23 15]\n",
      "Reshaped Array 7: [1 2 3 4 5 6]\n",
      "Original random array 8:\n",
      " [[43 29 36 13 32]\n",
      " [71 59 86 28 66]\n",
      " [42 45 62 57  6]]\n",
      "Reshaped Array 8: [43 29 36 13 32 71 59 86 28 66 42 45 62 57  6]\n",
      "Reshaped Array 9: [ 2  4  6  8 10 12]\n",
      "Original random array 10:\n",
      " [[28 28 44 84]\n",
      " [30 62 75 92]\n",
      " [89 62 97  1]\n",
      " [27 62 77  3]]\n",
      "Reshaped Array 10: [28 28 44 84 30 62 75 92 89 62 97  1 27 62 77  3]\n"
     ]
    }
   ],
   "source": [
    "arr1 = np.array([[2, 4, 6, 8], [10, 12, 14, 16]])\n",
    "reshaped_arr1 = arr1.flatten()\n",
    "print(\"Reshaped Array 1:\", reshaped_arr1)\n",
    "\n",
    "random_array2 = np.random.randint(1, 100, (3, 6))\n",
    "reshaped_arr2 = random_array2.flatten()\n",
    "print(\"Original random array 2:\\n\", random_array2)\n",
    "print(\"Reshaped Array 2:\", reshaped_arr2)\n",
    "\n",
    "arr3 = np.array([[1, 3, 5], [7, 9, 11], [13, 15, 17]])\n",
    "reshaped_arr3 = arr3.flatten()\n",
    "print(\"Reshaped Array 3:\", reshaped_arr3)\n",
    "\n",
    "random_array4 = np.random.randint(1, 100, (4, 4))\n",
    "reshaped_arr4 = random_array4.flatten()\n",
    "print(\"Original random array 4:\\n\", random_array4)\n",
    "print(\"Reshaped Array 4:\", reshaped_arr4)\n",
    "\n",
    "arr5 = np.array([[2, 4, 6], [8, 10, 12], [14, 16, 18]])\n",
    "reshaped_arr5 = arr5.flatten()\n",
    "print(\"Reshaped Array 5:\", reshaped_arr5)\n",
    "\n",
    "random_array6 = np.random.randint(1, 100, (5, 3))\n",
    "reshaped_arr6 = random_array6.flatten()\n",
    "print(\"Original random array 6:\\n\", random_array6)\n",
    "print(\"Reshaped Array 6:\", reshaped_arr6)\n",
    "\n",
    "arr7 = np.array([[1, 2, 3], [4, 5, 6]])\n",
    "reshaped_arr7 = arr7.flatten()\n",
    "print(\"Reshaped Array 7:\", reshaped_arr7)\n",
    "\n",
    "random_array8 = np.random.randint(1, 100, (3, 5))\n",
    "reshaped_arr8 = random_array8.flatten()\n",
    "print(\"Original random array 8:\\n\", random_array8)\n",
    "print(\"Reshaped Array 8:\", reshaped_arr8)\n",
    "\n",
    "arr9 = np.array([[2, 4], [6, 8], [10, 12]])\n",
    "reshaped_arr9 = arr9.flatten()\n",
    "print(\"Reshaped Array 9:\", reshaped_arr9)\n",
    "\n",
    "random_array10 = np.random.randint(1, 100, (4, 4))\n",
    "reshaped_arr10 = random_array10.flatten()\n",
    "print(\"Original random array 10:\\n\", random_array10)\n",
    "print(\"Reshaped Array 10:\", reshaped_arr10)\n"
   ]
  },
  {
   "cell_type": "code",
   "execution_count": null,
   "id": "202b1c20",
   "metadata": {},
   "outputs": [],
   "source": []
  }
 ],
 "metadata": {
  "kernelspec": {
   "display_name": "Python 3 (ipykernel)",
   "language": "python",
   "name": "python3"
  },
  "language_info": {
   "codemirror_mode": {
    "name": "ipython",
    "version": 3
   },
   "file_extension": ".py",
   "mimetype": "text/x-python",
   "name": "python",
   "nbconvert_exporter": "python",
   "pygments_lexer": "ipython3",
   "version": "3.9.7"
  }
 },
 "nbformat": 4,
 "nbformat_minor": 5
}
